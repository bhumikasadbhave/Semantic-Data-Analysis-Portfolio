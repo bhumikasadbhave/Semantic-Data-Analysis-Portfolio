{
 "cells": [
  {
   "cell_type": "markdown",
   "id": "8766b611",
   "metadata": {},
   "source": [
    "## Markov Chain: Indian Cricket Commentary"
   ]
  },
  {
   "cell_type": "markdown",
   "id": "d7e805b2",
   "metadata": {},
   "source": [
    "The sentences used in Commentary dataset are small, and we get pretty good sentences generated from this Markov Chain. \n",
    "\n",
    "Interesting Sentences Generated:\n",
    "   - Drags it from outside off and manages to get four runs.\n",
    "   - We saw him adjust very well to Dhawan when he was given the role of anchoring the innings.\n",
    "   - Shakib to Kohli, out Caught by Shreyas Iyer!! Needed something special to get out of the way.\n",
    "   - Was making room and the ball jammed off his thigh pad before nestling into Dhoni's mitts."
   ]
  },
  {
   "cell_type": "markdown",
   "id": "b989b695",
   "metadata": {},
   "source": [
    "### Import Dataset"
   ]
  },
  {
   "cell_type": "code",
   "execution_count": 10,
   "id": "542eb696",
   "metadata": {},
   "outputs": [],
   "source": [
    "import markovify\n",
    "import nltk\n",
    "import pandas as pd\n",
    "import re"
   ]
  },
  {
   "cell_type": "code",
   "execution_count": 3,
   "id": "3d59f638",
   "metadata": {},
   "outputs": [
    {
     "data": {
      "text/plain": [
       "'Nehra to Mandeep, FOUR, first boundary for Mandeep and RCB. Full and on the pads, needed to be put away and Mandeep did just that, picked it up and dispatched it over mid-wicket, couple of bounces and into the fence'"
      ]
     },
     "execution_count": 3,
     "metadata": {},
     "output_type": "execute_result"
    }
   ],
   "source": [
    "pd.set_option('display.max_colwidth', 5000)\n",
    "df = pd.read_csv('IPL_Match_Highlights_Commentary.csv')\n",
    "df = df.loc[:, ['Commentary']]\n",
    "df['Commentary'][0]"
   ]
  },
  {
   "cell_type": "markdown",
   "id": "e0e9dc5f",
   "metadata": {},
   "source": [
    "### Pre-Processing the Text"
   ]
  },
  {
   "cell_type": "code",
   "execution_count": 4,
   "id": "01501ff5",
   "metadata": {},
   "outputs": [
    {
     "data": {
      "text/html": [
       "<div>\n",
       "<style scoped>\n",
       "    .dataframe tbody tr th:only-of-type {\n",
       "        vertical-align: middle;\n",
       "    }\n",
       "\n",
       "    .dataframe tbody tr th {\n",
       "        vertical-align: top;\n",
       "    }\n",
       "\n",
       "    .dataframe thead th {\n",
       "        text-align: right;\n",
       "    }\n",
       "</style>\n",
       "<table border=\"1\" class=\"dataframe\">\n",
       "  <thead>\n",
       "    <tr style=\"text-align: right;\">\n",
       "      <th></th>\n",
       "      <th>Commentary</th>\n",
       "    </tr>\n",
       "  </thead>\n",
       "  <tbody>\n",
       "    <tr>\n",
       "      <th>10</th>\n",
       "      <td>Cutting to Binny, SIX, slower ball again but this time Binny hacks it over deep mid-wicket. It was slightly closer to off-stump and was given a fair tonk.</td>\n",
       "    </tr>\n",
       "    <tr>\n",
       "      <th>11</th>\n",
       "      <td>Cutting to Watson, FOUR, plants his foot down and absolutely drills the ball wide of a diving extra-cover. Overpitched from Cutting, Watson blasts him away.</td>\n",
       "    </tr>\n",
       "    <tr>\n",
       "      <th>12</th>\n",
       "      <td>Bhuvneshwar to Binny, 1 run, dropped! Naman Ojha, with the gloves on, puts one down. The ball went high up and was swirling awkwardly all the way through. But at this level, it should be taken. Binny was completely duped by the slower leg-cutter. Such good bowling from Bhuvi to keep it wide of off and out of reach.</td>\n",
       "    </tr>\n",
       "    <tr>\n",
       "      <th>13</th>\n",
       "      <td>Bhuvneshwar to Binny, out Caught by Yuvraj!! Gone this time. Yuvraj makes no mistake at backward point. What a top over this has been from Bhuvneshwar. It may now be a mountain too high for the RCB to climb. Binny backs away to slash a back of a length delivery over point. But this is a leg-cutter which bounces spongily and he slices it up to the fielder. Binny c Yuvraj b Bhuvneshwar 11(10) [6s-1].</td>\n",
       "    </tr>\n",
       "    <tr>\n",
       "      <th>14</th>\n",
       "      <td>Nehra to Watson, out Caught by Henriques!! That's the end of Watson, and of RCB. The little bit of reverse-swing which Nehra uses to curl the ball away from Watson does his undoing. Despite it being another full toss, Watson slices it straight up off the outside half of his bat. Simple catch at extra-cover. Watson c Henriques b Nehra 22(17) [4s-1 6s-1].</td>\n",
       "    </tr>\n",
       "  </tbody>\n",
       "</table>\n",
       "</div>"
      ],
      "text/plain": [
       "                                                                                                                                                                                                                                                                                                                                                                                                           Commentary\n",
       "10                                                                                                                                                                                                                                                         Cutting to Binny, SIX, slower ball again but this time Binny hacks it over deep mid-wicket. It was slightly closer to off-stump and was given a fair tonk.\n",
       "11                                                                                                                                                                                                                                                       Cutting to Watson, FOUR, plants his foot down and absolutely drills the ball wide of a diving extra-cover. Overpitched from Cutting, Watson blasts him away.\n",
       "12                                                                                       Bhuvneshwar to Binny, 1 run, dropped! Naman Ojha, with the gloves on, puts one down. The ball went high up and was swirling awkwardly all the way through. But at this level, it should be taken. Binny was completely duped by the slower leg-cutter. Such good bowling from Bhuvi to keep it wide of off and out of reach.\n",
       "13  Bhuvneshwar to Binny, out Caught by Yuvraj!! Gone this time. Yuvraj makes no mistake at backward point. What a top over this has been from Bhuvneshwar. It may now be a mountain too high for the RCB to climb. Binny backs away to slash a back of a length delivery over point. But this is a leg-cutter which bounces spongily and he slices it up to the fielder. Binny c Yuvraj b Bhuvneshwar 11(10) [6s-1].\n",
       "14                                                Nehra to Watson, out Caught by Henriques!! That's the end of Watson, and of RCB. The little bit of reverse-swing which Nehra uses to curl the ball away from Watson does his undoing. Despite it being another full toss, Watson slices it straight up off the outside half of his bat. Simple catch at extra-cover. Watson c Henriques b Nehra 22(17) [4s-1 6s-1]."
      ]
     },
     "execution_count": 4,
     "metadata": {},
     "output_type": "execute_result"
    }
   ],
   "source": [
    "def preprocess(text):\n",
    "    text=text.split(' ')\n",
    "    length= len(text)\n",
    "    text[length-1]=(str(text[length-1])+'.')\n",
    "    text=' '.join(x for x in text)\n",
    "    return text\n",
    "\n",
    "df['Commentary'] = df['Commentary'].apply(lambda x:preprocess(x))\n",
    "df[10:15]"
   ]
  },
  {
   "cell_type": "code",
   "execution_count": 5,
   "id": "a9c3f3dd",
   "metadata": {},
   "outputs": [],
   "source": [
    "corpus = df['Commentary'].to_string(index=False)"
   ]
  },
  {
   "cell_type": "markdown",
   "id": "d6383132",
   "metadata": {},
   "source": [
    "### Markov Chain Model"
   ]
  },
  {
   "cell_type": "code",
   "execution_count": 6,
   "id": "272558a1",
   "metadata": {},
   "outputs": [],
   "source": [
    "# Build the model\n",
    "text_model = markovify.Text(corpus, state_size=4)"
   ]
  },
  {
   "cell_type": "markdown",
   "id": "4f8ac9fb",
   "metadata": {},
   "source": [
    "### Generating Sentences"
   ]
  },
  {
   "cell_type": "code",
   "execution_count": 7,
   "id": "263672be",
   "metadata": {},
   "outputs": [
    {
     "name": "stdout",
     "output_type": "stream",
     "text": [
      "Length ball on the pads, Bumrah misses the flick and is rapped on the back thigh.\n",
      "\n",
      "Shakib to Kohli, out Caught by Shreyas Iyer!! Needed something special to get out of the way.\n",
      "\n",
      "Was making room and the ball jammed off his thigh pad before nestling into Dhoni's mitts.\n",
      "\n",
      "We saw him adjust very well to Dhawan when he was given the role of anchoring the innings.\n",
      "\n",
      "Shivam Mavi to de Kock, out Caught by Miller!! Stunned silence at the Chinnaswamy.\n",
      "\n",
      "Karthik went back in his crease and punch it away as he beats the fielder in the ring.\n",
      "\n",
      "After conceding 13 runs in his first over, width on offer and Pant is all over it like a rash.\n",
      "\n",
      "Perfect ball but Hooda managed to get enough wood to place it over mid-on.\n",
      "\n",
      "Takes on the seam-up length ball and muscles it away over the wide long-on boundary.\n",
      "\n",
      "Drags it from outside off and manages to get four runs.\n",
      "\n"
     ]
    }
   ],
   "source": [
    "# Print randomly-generated sentences\n",
    "for i in range(10):\n",
    "    print(text_model.make_short_sentence(100)+\"\\n\")"
   ]
  },
  {
   "cell_type": "markdown",
   "id": "056463f2",
   "metadata": {},
   "source": [
    "## Markov Chain: Elon Musk Twitter Deal"
   ]
  },
  {
   "cell_type": "markdown",
   "id": "070e69cd",
   "metadata": {},
   "source": [
    "The internet specially twitter exploded when Elon Musk was buying twitter and he tried to back out of the deal. We got the dataset from Kaggle, it is a datset of tweets which were made during this time. \n",
    "\n",
    "Interesting Sentences Generated:\n",
    "   - My understanding is he's a scientist a businessman amp his deals will sway on prudence not emotions.\n",
    "   - Twitter never wanted the deal.\n",
    "   - Twitter has tried to pull out of Twitter deal because he needs the money to buy Twitter.\n",
    "   - RT Elon Musks deal to buy Twitter could be trusted to be honest when making a deal."
   ]
  },
  {
   "cell_type": "markdown",
   "id": "6e7d2b43",
   "metadata": {},
   "source": [
    "### Import Dataset"
   ]
  },
  {
   "cell_type": "code",
   "execution_count": 9,
   "id": "6112a49c",
   "metadata": {},
   "outputs": [],
   "source": [
    "import markovify\n",
    "import nltk\n",
    "import pandas as pd\n",
    "import re"
   ]
  },
  {
   "cell_type": "code",
   "execution_count": 10,
   "id": "fdcaee9a",
   "metadata": {},
   "outputs": [],
   "source": [
    "pd.set_option('display.max_colwidth', 5000)\n",
    "df = pd.read_csv('twitter_deal.csv', low_memory=False)"
   ]
  },
  {
   "cell_type": "code",
   "execution_count": 21,
   "id": "e0446493",
   "metadata": {},
   "outputs": [
    {
     "data": {
      "text/plain": [
       "(72131, 1)"
      ]
     },
     "execution_count": 21,
     "metadata": {},
     "output_type": "execute_result"
    }
   ],
   "source": [
    "df = df.loc[:, ['tweet']]\n",
    "df.shape"
   ]
  },
  {
   "cell_type": "markdown",
   "id": "5fa85991",
   "metadata": {},
   "source": [
    "### Pre-Processing the Text"
   ]
  },
  {
   "cell_type": "code",
   "execution_count": 12,
   "id": "6c6f3501",
   "metadata": {},
   "outputs": [],
   "source": [
    "### Pre-Processing the Textdef remove_hashtags(text):\n",
    "    words = text.split(\" \")\n",
    "    cleanedwords = [word for word in words if (\"@\" not in word) and (\"#\" not in word)]\n",
    "    return \" \".join(cleanedwords)"
   ]
  },
  {
   "cell_type": "code",
   "execution_count": 13,
   "id": "72cca0f4",
   "metadata": {},
   "outputs": [],
   "source": [
    "def preprocess(text):\n",
    "    text = re.sub(r'https://\\S+|www\\.\\S+','',text)\n",
    "    #text = remove_hashtags(text)\n",
    "    text = re.sub('[^a-zA-Z0-9@#.\\' ]','',text)\n",
    "    text = re.sub(r\"[\\t\\n]*\", \"\", text)\n",
    "    return text"
   ]
  },
  {
   "cell_type": "code",
   "execution_count": 14,
   "id": "e8433129",
   "metadata": {},
   "outputs": [
    {
     "data": {
      "text/html": [
       "<div>\n",
       "<style scoped>\n",
       "    .dataframe tbody tr th:only-of-type {\n",
       "        vertical-align: middle;\n",
       "    }\n",
       "\n",
       "    .dataframe tbody tr th {\n",
       "        vertical-align: top;\n",
       "    }\n",
       "\n",
       "    .dataframe thead th {\n",
       "        text-align: right;\n",
       "    }\n",
       "</style>\n",
       "<table border=\"1\" class=\"dataframe\">\n",
       "  <thead>\n",
       "    <tr style=\"text-align: right;\">\n",
       "      <th></th>\n",
       "      <th>tweet</th>\n",
       "    </tr>\n",
       "  </thead>\n",
       "  <tbody>\n",
       "    <tr>\n",
       "      <th>10</th>\n",
       "      <td>@JustinHaworth My criticism of him is not an endorsement of Twitter. If this is some kind of strategy for a better deal and he still plans on acquiring it that would be great.. but as of now it just looks like he cut and ran on everyone</td>\n",
       "    </tr>\n",
       "    <tr>\n",
       "      <th>11</th>\n",
       "      <td>#affiliate #twitter #business #presents #crypto #socialmedia #marketing #blogger #gift #gifts #giftideas #shop #shopping #affiliatemarketing #ad #discounts #deal #discountcode #code #codes #drizly #drinks #Beer #wine #liquor</td>\n",
       "    </tr>\n",
       "    <tr>\n",
       "      <th>12</th>\n",
       "      <td>#affiliate #twitter #business #presents #crypto #bitcoin  #marketing #blog #blogger #gift #gifts #giftideas #shop #shopping #affiliatemarketing #ad  #discounts #deal #discountcode #code #codes #drizly #drinks #Beer #wine #liquor</td>\n",
       "    </tr>\n",
       "    <tr>\n",
       "      <th>13</th>\n",
       "      <td>@GRDecter Thought it was Elon getting away from the Twitter deal.</td>\n",
       "    </tr>\n",
       "    <tr>\n",
       "      <th>14</th>\n",
       "      <td>@leafguy403 The rollercoaster that is leafs Twitter Kurtis  the fact people are criticizing this deal before hes even played a game is bonkerscant wait to see him play for us</td>\n",
       "    </tr>\n",
       "  </tbody>\n",
       "</table>\n",
       "</div>"
      ],
      "text/plain": [
       "                                                                                                                                                                                                                                           tweet\n",
       "10  @JustinHaworth My criticism of him is not an endorsement of Twitter. If this is some kind of strategy for a better deal and he still plans on acquiring it that would be great.. but as of now it just looks like he cut and ran on everyone\n",
       "11            #affiliate #twitter #business #presents #crypto #socialmedia #marketing #blogger #gift #gifts #giftideas #shop #shopping #affiliatemarketing #ad #discounts #deal #discountcode #code #codes #drizly #drinks #Beer #wine #liquor  \n",
       "12        #affiliate #twitter #business #presents #crypto #bitcoin  #marketing #blog #blogger #gift #gifts #giftideas #shop #shopping #affiliatemarketing #ad  #discounts #deal #discountcode #code #codes #drizly #drinks #Beer #wine #liquor  \n",
       "13                                                                                                                                                                             @GRDecter Thought it was Elon getting away from the Twitter deal.\n",
       "14                                                                @leafguy403 The rollercoaster that is leafs Twitter Kurtis  the fact people are criticizing this deal before hes even played a game is bonkerscant wait to see him play for us"
      ]
     },
     "execution_count": 14,
     "metadata": {},
     "output_type": "execute_result"
    }
   ],
   "source": [
    "df['tweet'] = df['tweet'].apply(lambda x:preprocess(x))\n",
    "df[10:15]"
   ]
  },
  {
   "cell_type": "code",
   "execution_count": 15,
   "id": "9f97dbe4",
   "metadata": {},
   "outputs": [],
   "source": [
    "#df['tweet'] = df['tweet'].astype(str)\n",
    "corpus = df['tweet'].to_string(index=False)"
   ]
  },
  {
   "cell_type": "markdown",
   "id": "b3414f09",
   "metadata": {},
   "source": [
    "### Markov Chain Model"
   ]
  },
  {
   "cell_type": "code",
   "execution_count": 17,
   "id": "664872b4",
   "metadata": {},
   "outputs": [],
   "source": [
    "# Build the model\n",
    "text_model = markovify.Text(corpus, state_size=3)"
   ]
  },
  {
   "cell_type": "markdown",
   "id": "3130afce",
   "metadata": {},
   "source": [
    "### Generating Sentences"
   ]
  },
  {
   "cell_type": "code",
   "execution_count": 19,
   "id": "b3812e20",
   "metadata": {},
   "outputs": [
    {
     "name": "stdout",
     "output_type": "stream",
     "text": [
      "Since Elon backed out of @Twitter deal.\n",
      "\n",
      "Hul wil nou saak maak teen hom om hy uit die Twitter deal niet doorgaat is weer probleem minder.\n",
      "\n",
      "My understanding is he's a scientist a businessman amp his deals will sway on prudence not emotions.\n",
      "\n",
      "Bad News For Elon Musk amp Twitter.\n",
      "\n",
      "Mars #TwitterDeal #ElonMusk #ola Elon Musk seeks to end Twitter deal is dead democracy dodged a huge bullet.\n",
      "\n",
      "@Twitter says @elonmusk request to terminate the deal they're going to hold him to that and then negotiate a new deal.\n",
      "\n",
      "Twitter never wanted the deal.\n",
      "\n",
      "Twitter has tried to pull out of Twitter deal because he needs the money to buy Twitter.\n",
      "\n",
      "RT Elon Musks deal to buy Twitter could be trusted to be honest when making a deal.\n",
      "\n",
      "They were forced to take the L Delusional.\n",
      "\n"
     ]
    }
   ],
   "source": [
    "# Print randomly-generated sentences\n",
    "for i in range(10):\n",
    "    print(text_model.make_short_sentence(120) + \"\\n\")"
   ]
  }
 ],
 "metadata": {
  "kernelspec": {
   "display_name": "env",
   "language": "python",
   "name": "env"
  },
  "language_info": {
   "codemirror_mode": {
    "name": "ipython",
    "version": 3
   },
   "file_extension": ".py",
   "mimetype": "text/x-python",
   "name": "python",
   "nbconvert_exporter": "python",
   "pygments_lexer": "ipython3",
   "version": "3.8.18"
  }
 },
 "nbformat": 4,
 "nbformat_minor": 5
}
