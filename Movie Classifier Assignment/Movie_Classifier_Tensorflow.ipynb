{
 "cells": [
  {
   "cell_type": "markdown",
   "id": "68b53257",
   "metadata": {},
   "source": [
    "## Movie Classifier: Overview"
   ]
  },
  {
   "cell_type": "markdown",
   "id": "f983322a",
   "metadata": {},
   "source": [
    "Tasks Performed:\n",
    "1. Pre-processing the data:\n",
    "   \n",
    "   - Detected descriptions which are in different languages using langdetect python library.\n",
    "   - Converted these descriptions to English using googletrans library's Translator.\n",
    "   - Did traditional pre-processing of the data: Lowercasing, Removing twitter handles, stopwords, URLs, extra spaces, etc.\n",
    "   - Encoded the categories\n",
    "   "
   ]
  },
  {
   "cell_type": "markdown",
   "id": "1c52ec3a",
   "metadata": {},
   "source": [
    "2. Indexing the Vocuabulary:\n",
    "    - Using the TextVectorization to index the vocabulary found in the dataset. \n",
    "    - Later, we used the same layer instance to vectorize the samples.\n",
    "    - Our layer will only consider the top 20,000 words, and will truncate or pad sequences to be actually 200 tokens long.\n",
    "    - We use tensorflow.keras.layers.TextVectorization"
   ]
  },
  {
   "cell_type": "markdown",
   "id": "b6929d30",
   "metadata": {},
   "source": [
    "3. Embedding:\n",
    "    - Used pre-trained GLOVE Embeddings. Found 400000 word vectors \n",
    "    - Created the Embedding Matrix: Words not found in embedding index will be all-zeros. This includes the representation for \"padding\" and \"OOV\".\n",
    "    - Created tensorflow.keras.layers.Embedding layer and embedded the text sequences."
   ]
  },
  {
   "cell_type": "markdown",
   "id": "cb749f5f",
   "metadata": {},
   "source": [
    "4. Modelling:\n",
    "   \n",
    "   Model Summary:\n",
    "     - input_1 (InputLayer)                                                                    \n",
    "     - embedding (Embedding Layer)                                       \n",
    "     - bidirectional (Bidirectional LSTM layer)                                                                    \n",
    "     - dense (Dense)   \n",
    "     - dropout (Dropout)      \n",
    "     - dense_1 (Dense) "
   ]
  },
  {
   "cell_type": "markdown",
   "id": "68e6f113",
   "metadata": {},
   "source": [
    "5. Evaluation:\n",
    "    - Test Accurracy: 59.12%"
   ]
  },
  {
   "cell_type": "markdown",
   "id": "d811a6ef",
   "metadata": {},
   "source": [
    "## I. Initial pre-processing of the Data"
   ]
  },
  {
   "cell_type": "code",
   "execution_count": 1,
   "id": "f2a7f38c",
   "metadata": {},
   "outputs": [],
   "source": [
    "import tensorflow as tf\n",
    "from tensorflow.keras.layers import Embedding\n",
    "from tensorflow.keras.preprocessing.sequence import pad_sequences\n",
    "from tensorflow.keras.models import Sequential\n",
    "from tensorflow.keras.preprocessing.text import one_hot\n",
    "from tensorflow.keras.layers import LSTM\n",
    "from tensorflow.keras.layers import Dense\n",
    "from tensorflow.keras.layers import Dropout\n",
    "from tensorflow.keras.layers import Bidirectional\n",
    "\n",
    "import pandas as pd\n",
    "import numpy as np\n",
    "import matplotlib.pyplot as plt\n",
    "import seaborn as sns\n",
    "import nltk\n",
    "import re\n",
    "import random\n",
    "from nltk.stem.porter import PorterStemmer\n",
    "from nltk.stem import WordNetLemmatizer\n",
    "from nltk.corpus import stopwords\n",
    "from imblearn.under_sampling import RandomUnderSampler\n",
    "import warnings\n",
    "warnings.filterwarnings(\"ignore\")"
   ]
  },
  {
   "cell_type": "code",
   "execution_count": 38,
   "id": "611cdc5d",
   "metadata": {},
   "outputs": [],
   "source": [
    "#Loading the dataset\n",
    "df=pd.read_csv('train_data.txt',sep=':::',names=['Index','Title','Genre','Description'])"
   ]
  },
  {
   "cell_type": "code",
   "execution_count": 6,
   "id": "16148d80",
   "metadata": {},
   "outputs": [],
   "source": [
    "mov = df.copy()"
   ]
  },
  {
   "cell_type": "code",
   "execution_count": 7,
   "id": "6eb4dc0b",
   "metadata": {},
   "outputs": [
    {
     "data": {
      "text/plain": [
       "\" Jeremy Lin retires from basketball, not to play professionally in other sports as Michael Jordan did but to spend more time on his hobbies - watching anime and playing video games. One day, Lin gets sucked in to his computer and finds himself in the anime world. He finds Naruto, Sailor Moon, Goku, and Yugi who needs to settle a dispute with someone in a basketball game. The problem is the five doesn't know about the fundamentals of basketball and Jeremy Lin must guide the troupe.\""
      ]
     },
     "execution_count": 7,
     "metadata": {},
     "output_type": "execute_result"
    }
   ],
   "source": [
    "mov['Description'][0]"
   ]
  },
  {
   "cell_type": "code",
   "execution_count": 39,
   "id": "e9e6b5c1",
   "metadata": {},
   "outputs": [
    {
     "data": {
      "text/plain": [
       "54214"
      ]
     },
     "execution_count": 39,
     "metadata": {},
     "output_type": "execute_result"
    }
   ],
   "source": [
    "mov.shape[0]"
   ]
  },
  {
   "cell_type": "markdown",
   "id": "69eddf1d",
   "metadata": {},
   "source": [
    "### Detecting the Movie Descriptions which are in different language"
   ]
  },
  {
   "cell_type": "code",
   "execution_count": 57,
   "id": "c4e3deaf",
   "metadata": {},
   "outputs": [],
   "source": [
    "#to detect data of different language\n",
    "from langdetect import detect\n",
    "def detect_my(text):\n",
    "   try:\n",
    "       return detect(text)\n",
    "   except:\n",
    "       return 'unknown'"
   ]
  },
  {
   "cell_type": "code",
   "execution_count": 58,
   "id": "1231d765",
   "metadata": {},
   "outputs": [],
   "source": [
    "mov['Language']= mov['Description'].apply(detect_my)"
   ]
  },
  {
   "cell_type": "code",
   "execution_count": 59,
   "id": "77e9d3f0",
   "metadata": {},
   "outputs": [
    {
     "data": {
      "text/html": [
       "<div>\n",
       "<style scoped>\n",
       "    .dataframe tbody tr th:only-of-type {\n",
       "        vertical-align: middle;\n",
       "    }\n",
       "\n",
       "    .dataframe tbody tr th {\n",
       "        vertical-align: top;\n",
       "    }\n",
       "\n",
       "    .dataframe thead th {\n",
       "        text-align: right;\n",
       "    }\n",
       "</style>\n",
       "<table border=\"1\" class=\"dataframe\">\n",
       "  <thead>\n",
       "    <tr style=\"text-align: right;\">\n",
       "      <th></th>\n",
       "      <th>Index</th>\n",
       "      <th>Title</th>\n",
       "      <th>Genre</th>\n",
       "      <th>Description</th>\n",
       "      <th>Language</th>\n",
       "    </tr>\n",
       "  </thead>\n",
       "  <tbody>\n",
       "    <tr>\n",
       "      <th>210</th>\n",
       "      <td>211</td>\n",
       "      <td>Divorzio alla siciliana (1963)</td>\n",
       "      <td>comedy</td>\n",
       "      <td>Il barone Fifě ha bisogno di un erede per ave...</td>\n",
       "      <td>it</td>\n",
       "    </tr>\n",
       "    <tr>\n",
       "      <th>242</th>\n",
       "      <td>243</td>\n",
       "      <td>Túlvilági beszélö (1992)</td>\n",
       "      <td>documentary</td>\n",
       "      <td>Mail &lt;svaradi@sprynet.com&gt; for translation. T...</td>\n",
       "      <td>hu</td>\n",
       "    </tr>\n",
       "    <tr>\n",
       "      <th>282</th>\n",
       "      <td>283</td>\n",
       "      <td>\"Boogie-woogie 47\" (1980)</td>\n",
       "      <td>drama</td>\n",
       "      <td>En 1947, plusieurs familles de Montréal passe...</td>\n",
       "      <td>fr</td>\n",
       "    </tr>\n",
       "    <tr>\n",
       "      <th>678</th>\n",
       "      <td>679</td>\n",
       "      <td>Pallati 176 (1986)</td>\n",
       "      <td>comedy</td>\n",
       "      <td>English: A comedy by well-known Albanian thea...</td>\n",
       "      <td>sq</td>\n",
       "    </tr>\n",
       "    <tr>\n",
       "      <th>806</th>\n",
       "      <td>807</td>\n",
       "      <td>Iszony (1965)</td>\n",
       "      <td>drama</td>\n",
       "      <td>Mail to author for translation Karasz Nelli a...</td>\n",
       "      <td>hu</td>\n",
       "    </tr>\n",
       "    <tr>\n",
       "      <th>...</th>\n",
       "      <td>...</td>\n",
       "      <td>...</td>\n",
       "      <td>...</td>\n",
       "      <td>...</td>\n",
       "      <td>...</td>\n",
       "    </tr>\n",
       "    <tr>\n",
       "      <th>53697</th>\n",
       "      <td>53698</td>\n",
       "      <td>Fantasmi e ladri (1959)</td>\n",
       "      <td>comedy</td>\n",
       "      <td>Annunziata ha letto diecimila gialli e spopol...</td>\n",
       "      <td>it</td>\n",
       "    </tr>\n",
       "    <tr>\n",
       "      <th>53712</th>\n",
       "      <td>53713</td>\n",
       "      <td>Due notti con Cleopatra (1954)</td>\n",
       "      <td>comedy</td>\n",
       "      <td>Cleopatra č una donna bellissima ma ha un pic...</td>\n",
       "      <td>it</td>\n",
       "    </tr>\n",
       "    <tr>\n",
       "      <th>53878</th>\n",
       "      <td>53879</td>\n",
       "      <td>Gyilkos kedv (1997)</td>\n",
       "      <td>drama</td>\n",
       "      <td>Kora delutan egy iskolabol hazatero kislany c...</td>\n",
       "      <td>hu</td>\n",
       "    </tr>\n",
       "    <tr>\n",
       "      <th>54165</th>\n",
       "      <td>54166</td>\n",
       "      <td>Az áldozat (1994)</td>\n",
       "      <td>documentary</td>\n",
       "      <td>Mail author for translation. Az 1956-os forra...</td>\n",
       "      <td>hu</td>\n",
       "    </tr>\n",
       "    <tr>\n",
       "      <th>54174</th>\n",
       "      <td>54175</td>\n",
       "      <td>\"Les moineau et les Pinson\" (1982)</td>\n",
       "      <td>drama</td>\n",
       "      <td>Tableau de la vie quotidienne de deux famille...</td>\n",
       "      <td>fr</td>\n",
       "    </tr>\n",
       "  </tbody>\n",
       "</table>\n",
       "<p>370 rows × 5 columns</p>\n",
       "</div>"
      ],
      "text/plain": [
       "       Index                                 Title          Genre  \\\n",
       "210      211       Divorzio alla siciliana (1963)         comedy    \n",
       "242      243             Túlvilági beszélö (1992)    documentary    \n",
       "282      283            \"Boogie-woogie 47\" (1980)          drama    \n",
       "678      679                   Pallati 176 (1986)         comedy    \n",
       "806      807                        Iszony (1965)          drama    \n",
       "...      ...                                   ...            ...   \n",
       "53697  53698              Fantasmi e ladri (1959)         comedy    \n",
       "53712  53713       Due notti con Cleopatra (1954)         comedy    \n",
       "53878  53879                  Gyilkos kedv (1997)          drama    \n",
       "54165  54166                    Az áldozat (1994)    documentary    \n",
       "54174  54175   \"Les moineau et les Pinson\" (1982)          drama    \n",
       "\n",
       "                                             Description Language  \n",
       "210     Il barone Fifě ha bisogno di un erede per ave...       it  \n",
       "242     Mail <svaradi@sprynet.com> for translation. T...       hu  \n",
       "282     En 1947, plusieurs familles de Montréal passe...       fr  \n",
       "678     English: A comedy by well-known Albanian thea...       sq  \n",
       "806     Mail to author for translation Karasz Nelli a...       hu  \n",
       "...                                                  ...      ...  \n",
       "53697   Annunziata ha letto diecimila gialli e spopol...       it  \n",
       "53712   Cleopatra č una donna bellissima ma ha un pic...       it  \n",
       "53878   Kora delutan egy iskolabol hazatero kislany c...       hu  \n",
       "54165   Mail author for translation. Az 1956-os forra...       hu  \n",
       "54174   Tableau de la vie quotidienne de deux famille...       fr  \n",
       "\n",
       "[370 rows x 5 columns]"
      ]
     },
     "execution_count": 59,
     "metadata": {},
     "output_type": "execute_result"
    }
   ],
   "source": [
    "mov[mov['Language']!='en']"
   ]
  },
  {
   "cell_type": "markdown",
   "id": "2b350e43",
   "metadata": {},
   "source": [
    "### Translating these descriptions to English "
   ]
  },
  {
   "cell_type": "code",
   "execution_count": 60,
   "id": "a27ebc9d",
   "metadata": {},
   "outputs": [],
   "source": [
    "#Translating the non english description into english\n",
    "import googletrans\n",
    "from googletrans import Translator\n",
    "#mov['Description']=mov['Description'].apply(lambda x: translator.translate(x, dest='en').text )\n",
    "for i in range(0,mov.shape[0]):\n",
    "    if mov['Language'][i]!='en':\n",
    "        mov['Description'][i]=translator.translate(mov['Description'][i],dest='en').text \n",
    "\n"
   ]
  },
  {
   "cell_type": "code",
   "execution_count": 62,
   "id": "e381c42f",
   "metadata": {},
   "outputs": [],
   "source": [
    "mov.drop('Language',axis=1,inplace=True)  #Dropping the Language DataFrame\n",
    "#mov.to_csv(\"Movies_en.csv\")"
   ]
  },
  {
   "cell_type": "code",
   "execution_count": 2,
   "id": "39849a9d",
   "metadata": {},
   "outputs": [],
   "source": [
    "df=pd.read_csv('Movies_en.csv')\n",
    "# markov_df.to_csv('aug_df.csv')"
   ]
  },
  {
   "cell_type": "code",
   "execution_count": 3,
   "id": "71b3a171",
   "metadata": {},
   "outputs": [
    {
     "data": {
      "text/plain": [
       "(54214, 5)"
      ]
     },
     "execution_count": 3,
     "metadata": {},
     "output_type": "execute_result"
    }
   ],
   "source": [
    "df.shape"
   ]
  },
  {
   "cell_type": "markdown",
   "id": "65e0c411",
   "metadata": {},
   "source": [
    "### Train Data Value Counts"
   ]
  },
  {
   "cell_type": "code",
   "execution_count": 10,
   "id": "e5020421",
   "metadata": {},
   "outputs": [
    {
     "name": "stdout",
     "output_type": "stream",
     "text": [
      "Genre\n",
      " drama           13613\n",
      " documentary     13096\n",
      " comedy           7447\n",
      " short            5073\n",
      " horror           2204\n",
      " thriller         1591\n",
      " action           1315\n",
      " western          1032\n",
      " reality-tv        884\n",
      " family            784\n",
      " adventure         775\n",
      " music             731\n",
      " romance           672\n",
      " sci-fi            647\n",
      " adult             590\n",
      " crime             505\n",
      " animation         498\n",
      " sport             432\n",
      " talk-show         391\n",
      " fantasy           323\n",
      " mystery           319\n",
      " musical           277\n",
      " biography         265\n",
      " history           243\n",
      " game-show         194\n",
      " news              181\n",
      " war               132\n",
      "Name: count, dtype: int64\n"
     ]
    }
   ],
   "source": [
    "print(df['Genre'].value_counts())"
   ]
  },
  {
   "cell_type": "markdown",
   "id": "bf785cf8",
   "metadata": {},
   "source": [
    "### Data Preprocessing"
   ]
  },
  {
   "cell_type": "code",
   "execution_count": 4,
   "id": "5ab8cb61",
   "metadata": {},
   "outputs": [],
   "source": [
    "mov = df.copy()\n",
    "#mov = mov.iloc[0:105046,:]"
   ]
  },
  {
   "cell_type": "code",
   "execution_count": 5,
   "id": "335220fd",
   "metadata": {},
   "outputs": [
    {
     "data": {
      "text/plain": [
       "' Listening in to a conversation between his doctor and parents, 10-year-old Oscar learns what nobody has the courage to tell him. He only has a few weeks to live. Furious, he refuses to speak to anyone except straight-talking Rose, the lady in pink he meets on the hospital stairs. As Christmas approaches, Rose uses her fantastical experiences as a professional wrestler, her imagination, wit and charm to allow Oscar to live life and love to the full, in the company of his friends Pop Corn, Einstein, Bacon and childhood sweetheart Peggy Blue.'"
      ]
     },
     "execution_count": 5,
     "metadata": {},
     "output_type": "execute_result"
    }
   ],
   "source": [
    "mov['Description'][0]"
   ]
  },
  {
   "cell_type": "code",
   "execution_count": 6,
   "id": "4f0832a9",
   "metadata": {},
   "outputs": [
    {
     "data": {
      "text/plain": [
       "54214"
      ]
     },
     "execution_count": 6,
     "metadata": {},
     "output_type": "execute_result"
    }
   ],
   "source": [
    "mov.shape[0]"
   ]
  },
  {
   "cell_type": "code",
   "execution_count": 8,
   "id": "9d274b52",
   "metadata": {},
   "outputs": [],
   "source": [
    "import string\n",
    "def clean_text(text):\n",
    "    text = text.lower()                                  # lower-case all characters\n",
    "    text =  re.sub(r'@\\S+', '',text)                     # remove twitter handles\n",
    "    text =  re.sub(r'http\\S+', '',text)                  # remove urls\n",
    "    text =  re.sub(r'pic.\\S+', '',text) \n",
    "    text =  re.sub(r\"[^a-zA-Z+']\", ' ',text)             # only keeps characters\n",
    "    text = re.sub(r'\\s+[a-zA-Z]\\s+', ' ', text+' ')      # keep words with length>1 only\n",
    "    text = \"\".join([i for i in text if i not in string.punctuation])\n",
    "    words = nltk.tokenize.word_tokenize(text)\n",
    "    stopwords = nltk.corpus.stopwords.words('english')   # remove stopwords\n",
    "    text = \" \".join([i for i in words if i not in stopwords and len(i)>2])\n",
    "    text= re.sub(\"\\s[\\s]+\", \" \",text).strip()            # remove repeated/leading/trailing spaces\n",
    "    return text"
   ]
  },
  {
   "cell_type": "code",
   "execution_count": 9,
   "id": "2047d68f",
   "metadata": {},
   "outputs": [],
   "source": [
    "#Applying the above clean_text method for cleaning and preprocessing the Description column of the dataset that is being subjected to the model\n",
    "mov['clean_description'] = mov['Description'].apply(clean_text)\n"
   ]
  },
  {
   "cell_type": "markdown",
   "id": "dd14a663",
   "metadata": {},
   "source": [
    "### Encode the Categories "
   ]
  },
  {
   "cell_type": "code",
   "execution_count": 11,
   "id": "13630bd9",
   "metadata": {},
   "outputs": [],
   "source": [
    "# Create a new column 'category_id' with encoded categories\n",
    "mov['category_id'] = mov['Genre'].factorize()[0]"
   ]
  },
  {
   "cell_type": "code",
   "execution_count": 12,
   "id": "0ed84d3e",
   "metadata": {},
   "outputs": [],
   "source": [
    "# Dictionaries for future use\n",
    "category_id_df = mov[['Genre', 'category_id']].drop_duplicates()\n",
    "category_to_id = dict(category_id_df.values)\n",
    "id_to_category = dict(category_id_df[['category_id', 'Genre']].values)\n"
   ]
  },
  {
   "cell_type": "code",
   "execution_count": 13,
   "id": "ec87ab65",
   "metadata": {},
   "outputs": [
    {
     "name": "stdout",
     "output_type": "stream",
     "text": [
      "{' drama ': 0, ' thriller ': 1, ' adult ': 2, ' documentary ': 3, ' comedy ': 4, ' crime ': 5, ' reality-tv ': 6, ' horror ': 7, ' sport ': 8, ' animation ': 9, ' action ': 10, ' fantasy ': 11, ' short ': 12, ' sci-fi ': 13, ' music ': 14, ' adventure ': 15, ' talk-show ': 16, ' western ': 17, ' family ': 18, ' mystery ': 19, ' history ': 20, ' news ': 21, ' biography ': 22, ' romance ': 23, ' game-show ': 24, ' musical ': 25, ' war ': 26}\n"
     ]
    }
   ],
   "source": [
    "print(category_to_id)"
   ]
  },
  {
   "cell_type": "markdown",
   "id": "6abca985",
   "metadata": {},
   "source": [
    "### Create Dependent and Independent feature dataframes"
   ]
  },
  {
   "cell_type": "code",
   "execution_count": 14,
   "id": "6cd72a96",
   "metadata": {},
   "outputs": [],
   "source": [
    "## Get the Dependent and Independent features \n",
    "y=mov['category_id']\n",
    "X=mov['clean_description']"
   ]
  },
  {
   "cell_type": "code",
   "execution_count": 15,
   "id": "b1b3f018",
   "metadata": {},
   "outputs": [],
   "source": [
    "#Train test split\n",
    "from sklearn.model_selection import train_test_split\n",
    "X_train, X_test, y_train, y_test = train_test_split(X, y, test_size=0.33, random_state=42)"
   ]
  },
  {
   "cell_type": "markdown",
   "id": "3aefb238",
   "metadata": {},
   "source": [
    "## II. Creating a vocabulary index\n"
   ]
  },
  {
   "cell_type": "code",
   "execution_count": 17,
   "id": "3614fbdd",
   "metadata": {},
   "outputs": [
    {
     "name": "stderr",
     "output_type": "stream",
     "text": [
      "2023-11-16 22:41:47.216518: I tensorflow/core/grappler/optimizers/custom_graph_optimizer_registry.cc:114] Plugin optimizer for device_type GPU is enabled.\n"
     ]
    }
   ],
   "source": [
    "#Using the TextVectorization to index the vocabulary found in the dataset. \n",
    "#Later, we'll use the same layer instance to vectorize the samples.\n",
    "#Our layer will only consider the top 20,000 words, and will truncate or pad sequences \n",
    "#to be actually 200 tokens long.\n",
    "\n",
    "from tensorflow.keras.layers import TextVectorization\n",
    "vectorizer = TextVectorization(max_tokens=20000, output_sequence_length=200)\n",
    "text_ds = tf.data.Dataset.from_tensor_slices(X_train).batch(128)\n",
    "vectorizer.adapt(text_ds)"
   ]
  },
  {
   "cell_type": "code",
   "execution_count": 18,
   "id": "1ae8ba20",
   "metadata": {
    "scrolled": true
   },
   "outputs": [
    {
     "data": {
      "text/plain": [
       "['', '[UNK]', 'life', 'one', 'film']"
      ]
     },
     "execution_count": 18,
     "metadata": {},
     "output_type": "execute_result"
    }
   ],
   "source": [
    "vectorizer.get_vocabulary()[:5]"
   ]
  },
  {
   "cell_type": "code",
   "execution_count": 19,
   "id": "8e745b87",
   "metadata": {},
   "outputs": [],
   "source": [
    "voc = vectorizer.get_vocabulary()\n",
    "word_index = dict(zip(voc, range(len(voc))))"
   ]
  },
  {
   "cell_type": "code",
   "execution_count": 22,
   "id": "ddb52201",
   "metadata": {},
   "outputs": [
    {
     "data": {
      "text/plain": [
       "array([[  1,  10, 752, 408,   0,   0,   0,   0,   0,   0,   0,   0,   0,\n",
       "          0,   0,   0,   0,   0,   0,   0,   0,   0,   0,   0,   0,   0,\n",
       "          0,   0,   0,   0,   0,   0,   0,   0,   0,   0,   0,   0,   0,\n",
       "          0,   0,   0,   0,   0,   0,   0,   0,   0,   0,   0,   0,   0,\n",
       "          0,   0,   0,   0,   0,   0,   0,   0,   0,   0,   0,   0,   0,\n",
       "          0,   0,   0,   0,   0,   0,   0,   0,   0,   0,   0,   0,   0,\n",
       "          0,   0,   0,   0,   0,   0,   0,   0,   0,   0,   0,   0,   0,\n",
       "          0,   0,   0,   0,   0,   0,   0,   0,   0,   0,   0,   0,   0,\n",
       "          0,   0,   0,   0,   0,   0,   0,   0,   0,   0,   0,   0,   0,\n",
       "          0,   0,   0,   0,   0,   0,   0,   0,   0,   0,   0,   0,   0,\n",
       "          0,   0,   0,   0,   0,   0,   0,   0,   0,   0,   0,   0,   0,\n",
       "          0,   0,   0,   0,   0,   0,   0,   0,   0,   0,   0,   0,   0,\n",
       "          0,   0,   0,   0,   0,   0,   0,   0,   0,   0,   0,   0,   0,\n",
       "          0,   0,   0,   0,   0,   0,   0,   0,   0,   0,   0,   0,   0,\n",
       "          0,   0,   0,   0,   0,   0,   0,   0,   0,   0,   0,   0,   0,\n",
       "          0,   0,   0,   0,   0]])"
      ]
     },
     "execution_count": 22,
     "metadata": {},
     "output_type": "execute_result"
    }
   ],
   "source": [
    "output = vectorizer([[\"I love Indian Food\"]])\n",
    "output.numpy()"
   ]
  },
  {
   "cell_type": "markdown",
   "id": "2b995a4d",
   "metadata": {},
   "source": [
    "## III. Embedding the data"
   ]
  },
  {
   "cell_type": "markdown",
   "id": "a4e17ee0",
   "metadata": {},
   "source": [
    "### Loading the pre-trained GLOVE Embeddings"
   ]
  },
  {
   "cell_type": "code",
   "execution_count": 23,
   "id": "c04c79e3",
   "metadata": {},
   "outputs": [
    {
     "name": "stdout",
     "output_type": "stream",
     "text": [
      "Found 400000 word vectors.\n"
     ]
    }
   ],
   "source": [
    "import os\n",
    "path_to_glove_file = os.path.join(\n",
    "    os.path.expanduser(\"~\"), \"/Users/dibyanshu/Documents/Jupyter Codes/NLP/glove.6B/glove.6B.200d.txt\"\n",
    ")\n",
    "\n",
    "embeddings_index = {}\n",
    "with open(path_to_glove_file) as f:\n",
    "    for line in f:\n",
    "        word, coefs = line.split(maxsplit=1)\n",
    "        coefs = np.fromstring(coefs, \"f\", sep=\" \")\n",
    "        embeddings_index[word] = coefs\n",
    "\n",
    "print(\"Found %s word vectors.\" % len(embeddings_index))"
   ]
  },
  {
   "cell_type": "markdown",
   "id": "9380c48f",
   "metadata": {},
   "source": [
    "### Creating the Embedding Matrix"
   ]
  },
  {
   "cell_type": "code",
   "execution_count": 24,
   "id": "da2e5212",
   "metadata": {},
   "outputs": [
    {
     "name": "stdout",
     "output_type": "stream",
     "text": [
      "Converted 19787 words (213 misses)\n"
     ]
    }
   ],
   "source": [
    "num_tokens = len(voc) + 2\n",
    "embedding_dim = 200\n",
    "hits = 0\n",
    "misses = 0\n",
    "\n",
    "# Prepare embedding matrix\n",
    "embedding_matrix = np.zeros((num_tokens, embedding_dim))\n",
    "for word, i in word_index.items():\n",
    "    embedding_vector = embeddings_index.get(word)\n",
    "    if embedding_vector is not None:\n",
    "        # Words not found in embedding index will be all-zeros.\n",
    "        # This includes the representation for \"padding\" and \"OOV\"\n",
    "        embedding_matrix[i] = embedding_vector\n",
    "        hits += 1\n",
    "    else:\n",
    "        misses += 1\n",
    "print(\"Converted %d words (%d misses)\" % (hits, misses))"
   ]
  },
  {
   "cell_type": "markdown",
   "id": "01419531",
   "metadata": {},
   "source": [
    "### Creating the Embedding Layer"
   ]
  },
  {
   "cell_type": "code",
   "execution_count": 25,
   "id": "e8e4839b",
   "metadata": {},
   "outputs": [],
   "source": [
    "from tensorflow.keras.layers import Embedding\n",
    "import keras\n",
    "embedding_layer = Embedding(\n",
    "    num_tokens,\n",
    "    embedding_dim,\n",
    "    embeddings_initializer=keras.initializers.Constant(embedding_matrix),\n",
    "    trainable=True,\n",
    ")"
   ]
  },
  {
   "cell_type": "markdown",
   "id": "e46c69cc",
   "metadata": {},
   "source": [
    "## IV. Modelling"
   ]
  },
  {
   "cell_type": "code",
   "execution_count": 26,
   "id": "322ca1a2",
   "metadata": {},
   "outputs": [
    {
     "name": "stdout",
     "output_type": "stream",
     "text": [
      "Model: \"model\"\n",
      "_________________________________________________________________\n",
      " Layer (type)                Output Shape              Param #   \n",
      "=================================================================\n",
      " input_1 (InputLayer)        [(None, None)]            0         \n",
      "                                                                 \n",
      " embedding (Embedding)       (None, None, 200)         4000400   \n",
      "                                                                 \n",
      " bidirectional (Bidirection  (None, 200)               240800    \n",
      " al)                                                             \n",
      "                                                                 \n",
      " dense (Dense)               (None, 128)               25728     \n",
      "                                                                 \n",
      " dropout (Dropout)           (None, 128)               0         \n",
      "                                                                 \n",
      " dense_1 (Dense)             (None, 27)                3483      \n",
      "                                                                 \n",
      "=================================================================\n",
      "Total params: 4270411 (16.29 MB)\n",
      "Trainable params: 4270411 (16.29 MB)\n",
      "Non-trainable params: 0 (0.00 Byte)\n",
      "_________________________________________________________________\n",
      "None\n"
     ]
    }
   ],
   "source": [
    "from tensorflow.keras import layers\n",
    "\n",
    "# Creating model\n",
    "int_sequences_input = keras.Input(shape=(None,), dtype=\"int64\")\n",
    "embedded_sequences = embedding_layer(int_sequences_input)\n",
    "x = layers.Bidirectional(LSTM(100))(embedded_sequences)\n",
    "#x = layers.Dropout(0.5)(x)\n",
    "x = layers.Dense(128, activation=\"relu\")(x)\n",
    "x = layers.Dropout(0.5)(x)\n",
    "preds = layers.Dense(27, activation=\"softmax\")(x)\n",
    "model = keras.Model(int_sequences_input, preds)\n",
    "print(model.summary())"
   ]
  },
  {
   "cell_type": "markdown",
   "id": "639e6485",
   "metadata": {},
   "source": [
    "### Vectorising the data"
   ]
  },
  {
   "cell_type": "code",
   "execution_count": 27,
   "id": "5deb9d84",
   "metadata": {},
   "outputs": [],
   "source": [
    "x_train = vectorizer(np.array([[s] for s in X_train])).numpy()\n",
    "x_val = vectorizer(np.array([[s] for s in X_test])).numpy()\n",
    "\n",
    "y_train = np.array(y_train)\n",
    "y_val = np.array(y_test)"
   ]
  },
  {
   "cell_type": "markdown",
   "id": "b92bbb7f",
   "metadata": {},
   "source": [
    "### Fitting the Model"
   ]
  },
  {
   "cell_type": "code",
   "execution_count": 28,
   "id": "9c3a34da",
   "metadata": {},
   "outputs": [
    {
     "name": "stdout",
     "output_type": "stream",
     "text": [
      "Epoch 1/5\n"
     ]
    },
    {
     "name": "stderr",
     "output_type": "stream",
     "text": [
      "2023-11-16 22:42:47.767048: I tensorflow/core/grappler/optimizers/custom_graph_optimizer_registry.cc:114] Plugin optimizer for device_type GPU is enabled.\n",
      "2023-11-16 22:42:48.049438: I tensorflow/core/grappler/optimizers/custom_graph_optimizer_registry.cc:114] Plugin optimizer for device_type GPU is enabled.\n",
      "2023-11-16 22:42:48.108385: I tensorflow/core/grappler/optimizers/custom_graph_optimizer_registry.cc:114] Plugin optimizer for device_type GPU is enabled.\n",
      "2023-11-16 22:42:50.808248: I tensorflow/core/grappler/optimizers/custom_graph_optimizer_registry.cc:114] Plugin optimizer for device_type GPU is enabled.\n",
      "2023-11-16 22:42:50.822790: I tensorflow/core/grappler/optimizers/custom_graph_optimizer_registry.cc:114] Plugin optimizer for device_type GPU is enabled.\n"
     ]
    },
    {
     "name": "stdout",
     "output_type": "stream",
     "text": [
      "284/284 [==============================] - ETA: 0s - loss: 1.9180 - acc: 0.4605"
     ]
    },
    {
     "name": "stderr",
     "output_type": "stream",
     "text": [
      "2023-11-16 22:44:30.831928: I tensorflow/core/grappler/optimizers/custom_graph_optimizer_registry.cc:114] Plugin optimizer for device_type GPU is enabled.\n",
      "2023-11-16 22:44:30.957929: I tensorflow/core/grappler/optimizers/custom_graph_optimizer_registry.cc:114] Plugin optimizer for device_type GPU is enabled.\n",
      "2023-11-16 22:44:30.998126: I tensorflow/core/grappler/optimizers/custom_graph_optimizer_registry.cc:114] Plugin optimizer for device_type GPU is enabled.\n"
     ]
    },
    {
     "name": "stdout",
     "output_type": "stream",
     "text": [
      "284/284 [==============================] - 110s 362ms/step - loss: 1.9180 - acc: 0.4605 - val_loss: 1.6067 - val_acc: 0.5328\n",
      "Epoch 2/5\n",
      "284/284 [==============================] - 85s 300ms/step - loss: 1.5237 - acc: 0.5592 - val_loss: 1.4567 - val_acc: 0.5688\n",
      "Epoch 3/5\n",
      "284/284 [==============================] - 73s 255ms/step - loss: 1.3295 - acc: 0.6100 - val_loss: 1.3962 - val_acc: 0.5838\n",
      "Epoch 4/5\n",
      "284/284 [==============================] - 66s 232ms/step - loss: 1.1826 - acc: 0.6518 - val_loss: 1.3682 - val_acc: 0.5931\n",
      "Epoch 5/5\n",
      "284/284 [==============================] - 63s 223ms/step - loss: 1.0537 - acc: 0.6886 - val_loss: 1.4208 - val_acc: 0.5912\n"
     ]
    },
    {
     "data": {
      "text/plain": [
       "<keras.src.callbacks.History at 0x2d478d280>"
      ]
     },
     "execution_count": 28,
     "metadata": {},
     "output_type": "execute_result"
    }
   ],
   "source": [
    "model.compile(\n",
    "    loss=\"sparse_categorical_crossentropy\", optimizer=\"rmsprop\", metrics=[\"acc\"]\n",
    ")\n",
    "model.fit(x_train, y_train, batch_size=128, epochs=5, validation_data=(x_val, y_val))"
   ]
  },
  {
   "cell_type": "markdown",
   "id": "96945b8a",
   "metadata": {},
   "source": [
    "## V. Evaluation"
   ]
  },
  {
   "cell_type": "markdown",
   "id": "9242c247",
   "metadata": {},
   "source": [
    "### Test Data Validation"
   ]
  },
  {
   "cell_type": "code",
   "execution_count": 31,
   "id": "3d566551",
   "metadata": {},
   "outputs": [
    {
     "name": "stderr",
     "output_type": "stream",
     "text": [
      "2023-11-16 22:49:58.537126: I tensorflow/core/grappler/optimizers/custom_graph_optimizer_registry.cc:114] Plugin optimizer for device_type GPU is enabled.\n",
      "2023-11-16 22:49:58.683518: I tensorflow/core/grappler/optimizers/custom_graph_optimizer_registry.cc:114] Plugin optimizer for device_type GPU is enabled.\n",
      "2023-11-16 22:49:58.706576: I tensorflow/core/grappler/optimizers/custom_graph_optimizer_registry.cc:114] Plugin optimizer for device_type GPU is enabled.\n"
     ]
    },
    {
     "name": "stdout",
     "output_type": "stream",
     "text": [
      "560/560 [==============================] - 12s 19ms/step\n"
     ]
    }
   ],
   "source": [
    "#y_pred=model.predict(X_test)\n",
    "y_pred=model.predict(x_val)"
   ]
  },
  {
   "cell_type": "code",
   "execution_count": 32,
   "id": "79df04c6",
   "metadata": {},
   "outputs": [
    {
     "data": {
      "text/plain": [
       "array([[3.3842787e-01, 2.6631859e-01, 1.2558341e-02, ..., 7.0602786e-05,\n",
       "        4.6238455e-04, 5.7916419e-05],\n",
       "       [7.9520470e-01, 4.8521045e-03, 1.2569671e-03, ..., 5.6822328e-06,\n",
       "        1.5580592e-03, 1.0342008e-04],\n",
       "       [2.0679317e-02, 9.6977856e-03, 9.1187535e-03, ..., 4.3359742e-04,\n",
       "        2.7906990e-03, 3.7548249e-04],\n",
       "       ...,\n",
       "       [7.4810112e-01, 4.5555574e-03, 1.1045377e-03, ..., 5.5015869e-05,\n",
       "        5.8568139e-03, 2.1295799e-03],\n",
       "       [2.5704688e-01, 6.4409807e-02, 7.3263724e-04, ..., 3.0026969e-04,\n",
       "        1.5303037e-03, 4.0232692e-02],\n",
       "       [2.2442985e-02, 4.7985530e-03, 2.1680152e-02, ..., 3.7444636e-04,\n",
       "        1.8713679e-03, 6.6583445e-05]], dtype=float32)"
      ]
     },
     "execution_count": 32,
     "metadata": {},
     "output_type": "execute_result"
    }
   ],
   "source": [
    "y_pred"
   ]
  },
  {
   "cell_type": "code",
   "execution_count": 33,
   "id": "e09e5086",
   "metadata": {},
   "outputs": [],
   "source": [
    "y_pred_labels = [np.argmax(y_pred[i]) for i in range(0,len(y_pred))]"
   ]
  },
  {
   "cell_type": "code",
   "execution_count": 34,
   "id": "ed96ea6c",
   "metadata": {},
   "outputs": [
    {
     "data": {
      "text/plain": [
       "0.5912469956961601"
      ]
     },
     "execution_count": 34,
     "metadata": {},
     "output_type": "execute_result"
    }
   ],
   "source": [
    "from sklearn.metrics import accuracy_score\n",
    "from sklearn.metrics import confusion_matrix\n",
    "accuracy_score(y_val,y_pred_labels)"
   ]
  },
  {
   "cell_type": "code",
   "execution_count": 35,
   "id": "cdba6b98",
   "metadata": {},
   "outputs": [
    {
     "data": {
      "image/png": "[encoded data removed]",
      "text/plain": [
       "<Figure size 800x800 with 2 Axes>"
      ]
     },
     "metadata": {},
     "output_type": "display_data"
    }
   ],
   "source": [
    "conf_mat = confusion_matrix(y_test, y_pred_labels)\n",
    "fig, ax = plt.subplots(figsize=(8,8))\n",
    "sns.heatmap(conf_mat, annot=True, cmap=\"Blues\", fmt='d',\n",
    "            xticklabels=category_id_df.Genre.values,\n",
    "            yticklabels=category_id_df.Genre.values)\n",
    "plt.ylabel('Actual')\n",
    "plt.xlabel('Predicted')\n",
    "plt.title(\"CONFUSION MATRIX \", size=16);"
   ]
  },
  {
   "cell_type": "code",
   "execution_count": 37,
   "id": "dca8368a",
   "metadata": {},
   "outputs": [
    {
     "name": "stdout",
     "output_type": "stream",
     "text": [
      "               precision    recall  f1-score   support\n",
      "\n",
      "       drama        0.58      0.74      0.65      4489\n",
      "    thriller        0.31      0.27      0.29       517\n",
      "       adult        0.56      0.45      0.50       171\n",
      " documentary        0.73      0.80      0.76      4351\n",
      "      comedy        0.57      0.58      0.58      2439\n",
      "       crime        0.20      0.03      0.06       183\n",
      "  reality-tv        0.39      0.20      0.27       295\n",
      "      horror        0.52      0.79      0.63       687\n",
      "       sport        0.73      0.29      0.42       154\n",
      "   animation        0.32      0.21      0.26       159\n",
      "      action        0.40      0.39      0.40       431\n",
      "     fantasy        0.29      0.06      0.11       109\n",
      "       short        0.47      0.40      0.43      1725\n",
      "      sci-fi        0.46      0.37      0.41       238\n",
      "       music        0.63      0.48      0.55       247\n",
      "   adventure        0.22      0.14      0.17       237\n",
      "   talk-show        0.46      0.26      0.33       128\n",
      "     western        0.92      0.75      0.83       330\n",
      "      family        0.41      0.11      0.18       236\n",
      "     mystery        0.00      0.00      0.00        98\n",
      "     history        0.20      0.01      0.02        79\n",
      "        news        0.00      0.00      0.00        52\n",
      "   biography        0.00      0.00      0.00        94\n",
      "     romance        0.25      0.02      0.03       238\n",
      "   game-show        0.79      0.48      0.60        64\n",
      "     musical        0.50      0.02      0.04        91\n",
      "         war        0.00      0.00      0.00        49\n",
      "\n",
      "     accuracy                           0.59     17891\n",
      "    macro avg       0.40      0.29      0.31     17891\n",
      " weighted avg       0.56      0.59      0.57     17891\n",
      "\n"
     ]
    }
   ],
   "source": [
    "from sklearn import metrics\n",
    "print(metrics.classification_report(y_val, y_pred_labels,target_names= df['Genre'].unique()))"
   ]
  },
  {
   "cell_type": "code",
   "execution_count": null,
   "id": "6ca50ad4",
   "metadata": {},
   "outputs": [],
   "source": []
  }
 ],
 "metadata": {
  "kernelspec": {
   "display_name": "env",
   "language": "python",
   "name": "env"
  },
  "language_info": {
   "codemirror_mode": {
    "name": "ipython",
    "version": 3
   },
   "file_extension": ".py",
   "mimetype": "text/x-python",
   "name": "python",
   "nbconvert_exporter": "python",
   "pygments_lexer": "ipython3",
   "version": "3.8.18"
  }
 },
 "nbformat": 4,
 "nbformat_minor": 5
}
