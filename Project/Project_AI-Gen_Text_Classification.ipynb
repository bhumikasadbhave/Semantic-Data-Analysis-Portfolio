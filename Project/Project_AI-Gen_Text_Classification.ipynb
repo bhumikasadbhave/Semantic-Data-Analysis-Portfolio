{
 "cells": [
  {
   "cell_type": "markdown",
   "id": "25eeff9d",
   "metadata": {},
   "source": [
    "## Group Project: Detecting AI generated text"
   ]
  },
  {
   "cell_type": "markdown",
   "id": "4e69699a",
   "metadata": {},
   "source": [
    "Kaggle Competition Link: https://www.kaggle.com/competitions/llm-detect-ai-generated-text\n",
    "\n",
    "Goal: Classify essays into AI-written text and Student-written text."
   ]
  },
  {
   "cell_type": "markdown",
   "id": "3833acb0",
   "metadata": {},
   "source": [
    "Tasks performed: \n",
    "1. Analysing the Data:\n",
    "    - Remove punctuations\n",
    "    - Analysing the length of essays\n",
    "    - Comparing Essay Lengths\n",
    "    - Analysis of most common words by student and LLM"
   ]
  },
  {
   "cell_type": "markdown",
   "id": "73772cad",
   "metadata": {},
   "source": [
    "2. Pre-processing the Data:\n",
    "    - Removing Duplicate records\n",
    "    - Creating a vocabulary index: Using the TextVectorization to index the vocabulary found in the dataset. Later, we use the same layer instance to vectorize the samples. Our layer will only consider the top 30,000 words, and will truncate or pad sequences to be actually 200 tokens long."
   ]
  },
  {
   "cell_type": "markdown",
   "id": "15d2c1a5",
   "metadata": {},
   "source": [
    "3. Embedding and Modelling:\n",
    "    - Used pre-trained GLOVE Embeddings\n",
    "    - Created the Embedding Matrix\n",
    "    - Created tensorflow.keras.layers.Embedding layer and embedded the text sequences\n"
   ]
  },
  {
   "cell_type": "markdown",
   "id": "07cb0dd2",
   "metadata": {},
   "source": [
    "4. Modelling\n",
    "\n",
    "    Model Summary:\n",
    "\n",
    "    - input_1 (InputLayer)     \n",
    "    - embedding_1 (Embedding)\n",
    "    - bidirectional (Bidirectional LSTM Layer)                                                             \n",
    "    - dense (Dense)    \n",
    "    - dense_1 (Dense)  \n",
    "    - dropout (Dropout)       \n",
    "    - dense_2 (Dense) "
   ]
  },
  {
   "cell_type": "markdown",
   "id": "618f17c5",
   "metadata": {},
   "source": [
    "4. Evaluation:\n",
    "   - Validation Accuracy: 98.41%\n",
    "   - Kaggle Submission Accuracy: 80.9%"
   ]
  },
  {
   "cell_type": "markdown",
   "id": "f1eaa594",
   "metadata": {},
   "source": [
    "## I. Analysing the Data"
   ]
  },
  {
   "cell_type": "markdown",
   "id": "3c5c5d4e",
   "metadata": {},
   "source": [
    "### Importing the Dataset"
   ]
  },
  {
   "cell_type": "code",
   "execution_count": 6,
   "id": "506569a2",
   "metadata": {},
   "outputs": [],
   "source": [
    "import pandas as pd\n",
    "import seaborn as sns\n",
    "from matplotlib import pyplot as plt\n",
    "import string\n",
    "import sys\n",
    "import gc\n",
    "from sklearn.model_selection import StratifiedKFold\n",
    "from sklearn.model_selection import train_test_split\n",
    "from sklearn.metrics import roc_auc_score\n",
    "import numpy as np\n",
    "from tensorflow.keras.layers import TextVectorization\n",
    "import tensorflow as tf\n",
    "#from datasets import Dataset\n",
    "from tqdm.auto import tqdm\n",
    "from transformers import PreTrainedTokenizerFast\n",
    "from sklearn.linear_model import SGDClassifier"
   ]
  },
  {
   "cell_type": "code",
   "execution_count": 2,
   "id": "a3f955e7",
   "metadata": {},
   "outputs": [],
   "source": [
    "#Data given by Kaggle\n",
    "\n",
    "train_prompt_file = \"train_prompts.csv\"\n",
    "df_train_prompt = pd.read_csv(train_prompt_file)\n",
    "\n",
    "train_essay_file = \"train_essays.csv\"\n",
    "df_train_essay = pd.read_csv(train_essay_file)\n",
    "\n",
    "test_essay_file = \"test_essays.csv\"\n",
    "df_test_essay = pd.read_csv(test_essay_file)\n",
    "\n",
    "sub_file = \"sample_submission.csv\"\n",
    "df_sub = pd.read_csv(sub_file)"
   ]
  },
  {
   "cell_type": "code",
   "execution_count": 3,
   "id": "f4212f08",
   "metadata": {},
   "outputs": [
    {
     "data": {
      "text/html": [
       "<div>\n",
       "<style scoped>\n",
       "    .dataframe tbody tr th:only-of-type {\n",
       "        vertical-align: middle;\n",
       "    }\n",
       "\n",
       "    .dataframe tbody tr th {\n",
       "        vertical-align: top;\n",
       "    }\n",
       "\n",
       "    .dataframe thead th {\n",
       "        text-align: right;\n",
       "    }\n",
       "</style>\n",
       "<table border=\"1\" class=\"dataframe\">\n",
       "  <thead>\n",
       "    <tr style=\"text-align: right;\">\n",
       "      <th></th>\n",
       "      <th>id</th>\n",
       "      <th>prompt_id</th>\n",
       "      <th>text</th>\n",
       "      <th>generated</th>\n",
       "    </tr>\n",
       "  </thead>\n",
       "  <tbody>\n",
       "    <tr>\n",
       "      <th>0</th>\n",
       "      <td>0059830c</td>\n",
       "      <td>0</td>\n",
       "      <td>Cars. Cars have been around since they became ...</td>\n",
       "      <td>0</td>\n",
       "    </tr>\n",
       "    <tr>\n",
       "      <th>1</th>\n",
       "      <td>005db917</td>\n",
       "      <td>0</td>\n",
       "      <td>Transportation is a large necessity in most co...</td>\n",
       "      <td>0</td>\n",
       "    </tr>\n",
       "    <tr>\n",
       "      <th>2</th>\n",
       "      <td>008f63e3</td>\n",
       "      <td>0</td>\n",
       "      <td>\"America's love affair with it's vehicles seem...</td>\n",
       "      <td>0</td>\n",
       "    </tr>\n",
       "    <tr>\n",
       "      <th>3</th>\n",
       "      <td>00940276</td>\n",
       "      <td>0</td>\n",
       "      <td>How often do you ride in a car? Do you drive a...</td>\n",
       "      <td>0</td>\n",
       "    </tr>\n",
       "    <tr>\n",
       "      <th>4</th>\n",
       "      <td>00c39458</td>\n",
       "      <td>0</td>\n",
       "      <td>Cars are a wonderful thing. They are perhaps o...</td>\n",
       "      <td>0</td>\n",
       "    </tr>\n",
       "  </tbody>\n",
       "</table>\n",
       "</div>"
      ],
      "text/plain": [
       "         id  prompt_id                                               text  \\\n",
       "0  0059830c          0  Cars. Cars have been around since they became ...   \n",
       "1  005db917          0  Transportation is a large necessity in most co...   \n",
       "2  008f63e3          0  \"America's love affair with it's vehicles seem...   \n",
       "3  00940276          0  How often do you ride in a car? Do you drive a...   \n",
       "4  00c39458          0  Cars are a wonderful thing. They are perhaps o...   \n",
       "\n",
       "   generated  \n",
       "0          0  \n",
       "1          0  \n",
       "2          0  \n",
       "3          0  \n",
       "4          0  "
      ]
     },
     "execution_count": 3,
     "metadata": {},
     "output_type": "execute_result"
    }
   ],
   "source": [
    "df_train_essay.head()"
   ]
  },
  {
   "cell_type": "code",
   "execution_count": 4,
   "id": "39aa3202",
   "metadata": {},
   "outputs": [
    {
     "data": {
      "text/html": [
       "<div>\n",
       "<style scoped>\n",
       "    .dataframe tbody tr th:only-of-type {\n",
       "        vertical-align: middle;\n",
       "    }\n",
       "\n",
       "    .dataframe tbody tr th {\n",
       "        vertical-align: top;\n",
       "    }\n",
       "\n",
       "    .dataframe thead th {\n",
       "        text-align: right;\n",
       "    }\n",
       "</style>\n",
       "<table border=\"1\" class=\"dataframe\">\n",
       "  <thead>\n",
       "    <tr style=\"text-align: right;\">\n",
       "      <th></th>\n",
       "      <th>prompt_id</th>\n",
       "      <th>prompt_name</th>\n",
       "      <th>instructions</th>\n",
       "      <th>source_text</th>\n",
       "    </tr>\n",
       "  </thead>\n",
       "  <tbody>\n",
       "    <tr>\n",
       "      <th>0</th>\n",
       "      <td>0</td>\n",
       "      <td>Car-free cities</td>\n",
       "      <td>Write an explanatory essay to inform fellow ci...</td>\n",
       "      <td># In German Suburb, Life Goes On Without Cars ...</td>\n",
       "    </tr>\n",
       "    <tr>\n",
       "      <th>1</th>\n",
       "      <td>1</td>\n",
       "      <td>Does the electoral college work?</td>\n",
       "      <td>Write a letter to your state senator in which ...</td>\n",
       "      <td># What Is the Electoral College? by the Office...</td>\n",
       "    </tr>\n",
       "  </tbody>\n",
       "</table>\n",
       "</div>"
      ],
      "text/plain": [
       "   prompt_id                       prompt_name  \\\n",
       "0          0                   Car-free cities   \n",
       "1          1  Does the electoral college work?   \n",
       "\n",
       "                                        instructions  \\\n",
       "0  Write an explanatory essay to inform fellow ci...   \n",
       "1  Write a letter to your state senator in which ...   \n",
       "\n",
       "                                         source_text  \n",
       "0  # In German Suburb, Life Goes On Without Cars ...  \n",
       "1  # What Is the Electoral College? by the Office...  "
      ]
     },
     "execution_count": 4,
     "metadata": {},
     "output_type": "execute_result"
    }
   ],
   "source": [
    "df_train_prompt.head()"
   ]
  },
  {
   "cell_type": "code",
   "execution_count": 5,
   "id": "3bfa82e9",
   "metadata": {},
   "outputs": [
    {
     "name": "stdout",
     "output_type": "stream",
     "text": [
      "<class 'pandas.core.frame.DataFrame'>\n",
      "RangeIndex: 1378 entries, 0 to 1377\n",
      "Data columns (total 4 columns):\n",
      " #   Column     Non-Null Count  Dtype \n",
      "---  ------     --------------  ----- \n",
      " 0   id         1378 non-null   object\n",
      " 1   prompt_id  1378 non-null   int64 \n",
      " 2   text       1378 non-null   object\n",
      " 3   generated  1378 non-null   int64 \n",
      "dtypes: int64(2), object(2)\n",
      "memory usage: 43.2+ KB\n"
     ]
    }
   ],
   "source": [
    "df_train_essay.info()"
   ]
  },
  {
   "cell_type": "code",
   "execution_count": 6,
   "id": "2d446f95",
   "metadata": {},
   "outputs": [
    {
     "data": {
      "text/plain": [
       "generated\n",
       "0    1375\n",
       "1       3\n",
       "Name: count, dtype: int64"
      ]
     },
     "execution_count": 6,
     "metadata": {},
     "output_type": "execute_result"
    }
   ],
   "source": [
    "df_train_essay[\"generated\"].value_counts()"
   ]
  },
  {
   "cell_type": "code",
   "execution_count": 7,
   "id": "e4807081",
   "metadata": {
    "scrolled": true
   },
   "outputs": [
    {
     "data": {
      "text/plain": [
       "generated\n",
       "0    28746\n",
       "1    17500\n",
       "Name: count, dtype: int64"
      ]
     },
     "execution_count": 7,
     "metadata": {},
     "output_type": "execute_result"
    }
   ],
   "source": [
    "## Since there is class imbalanced problem, we will use external dataset\n",
    "train_essay_ex = \"train_v2_drcat_02.csv\"\n",
    "df_train_essay_ex = pd.read_csv(train_essay_ex)\n",
    "df_train_essay_ex.rename(columns = {\"label\":\"generated\"}, inplace=True)\n",
    "\n",
    "## Merging datasets\n",
    "df = pd.concat([df_train_essay_ex[[\"text\", \"generated\"]],df_train_essay[[\"text\", \"generated\"]]])\n",
    "df['generated'].value_counts()\n",
    "\n"
   ]
  },
  {
   "cell_type": "code",
   "execution_count": 8,
   "id": "d01704bb",
   "metadata": {},
   "outputs": [
    {
     "data": {
      "text/html": [
       "<div>\n",
       "<style scoped>\n",
       "    .dataframe tbody tr th:only-of-type {\n",
       "        vertical-align: middle;\n",
       "    }\n",
       "\n",
       "    .dataframe tbody tr th {\n",
       "        vertical-align: top;\n",
       "    }\n",
       "\n",
       "    .dataframe thead th {\n",
       "        text-align: right;\n",
       "    }\n",
       "</style>\n",
       "<table border=\"1\" class=\"dataframe\">\n",
       "  <thead>\n",
       "    <tr style=\"text-align: right;\">\n",
       "      <th></th>\n",
       "      <th>text</th>\n",
       "      <th>generated</th>\n",
       "    </tr>\n",
       "  </thead>\n",
       "  <tbody>\n",
       "    <tr>\n",
       "      <th>0</th>\n",
       "      <td>Phones\\n\\nModern humans today are always on th...</td>\n",
       "      <td>0</td>\n",
       "    </tr>\n",
       "    <tr>\n",
       "      <th>1</th>\n",
       "      <td>This essay will explain if drivers should or s...</td>\n",
       "      <td>0</td>\n",
       "    </tr>\n",
       "    <tr>\n",
       "      <th>2</th>\n",
       "      <td>Driving while the use of cellular devices\\n\\nT...</td>\n",
       "      <td>0</td>\n",
       "    </tr>\n",
       "    <tr>\n",
       "      <th>3</th>\n",
       "      <td>Phones &amp; Driving\\n\\nDrivers should not be able...</td>\n",
       "      <td>0</td>\n",
       "    </tr>\n",
       "    <tr>\n",
       "      <th>4</th>\n",
       "      <td>Cell Phone Operation While Driving\\n\\nThe abil...</td>\n",
       "      <td>0</td>\n",
       "    </tr>\n",
       "  </tbody>\n",
       "</table>\n",
       "</div>"
      ],
      "text/plain": [
       "                                                text  generated\n",
       "0  Phones\\n\\nModern humans today are always on th...          0\n",
       "1  This essay will explain if drivers should or s...          0\n",
       "2  Driving while the use of cellular devices\\n\\nT...          0\n",
       "3  Phones & Driving\\n\\nDrivers should not be able...          0\n",
       "4  Cell Phone Operation While Driving\\n\\nThe abil...          0"
      ]
     },
     "execution_count": 8,
     "metadata": {},
     "output_type": "execute_result"
    }
   ],
   "source": [
    "df.head()"
   ]
  },
  {
   "cell_type": "code",
   "execution_count": 9,
   "id": "e6a74786",
   "metadata": {},
   "outputs": [
    {
     "data": {
      "text/html": [
       "<div>\n",
       "<style scoped>\n",
       "    .dataframe tbody tr th:only-of-type {\n",
       "        vertical-align: middle;\n",
       "    }\n",
       "\n",
       "    .dataframe tbody tr th {\n",
       "        vertical-align: top;\n",
       "    }\n",
       "\n",
       "    .dataframe thead th {\n",
       "        text-align: right;\n",
       "    }\n",
       "</style>\n",
       "<table border=\"1\" class=\"dataframe\">\n",
       "  <thead>\n",
       "    <tr style=\"text-align: right;\">\n",
       "      <th></th>\n",
       "      <th>id</th>\n",
       "      <th>prompt_id</th>\n",
       "      <th>text</th>\n",
       "    </tr>\n",
       "  </thead>\n",
       "  <tbody>\n",
       "    <tr>\n",
       "      <th>0</th>\n",
       "      <td>0000aaaa</td>\n",
       "      <td>2</td>\n",
       "      <td>Aaa bbb ccc.</td>\n",
       "    </tr>\n",
       "    <tr>\n",
       "      <th>1</th>\n",
       "      <td>1111bbbb</td>\n",
       "      <td>3</td>\n",
       "      <td>Bbb ccc ddd.</td>\n",
       "    </tr>\n",
       "    <tr>\n",
       "      <th>2</th>\n",
       "      <td>2222cccc</td>\n",
       "      <td>4</td>\n",
       "      <td>CCC ddd eee.</td>\n",
       "    </tr>\n",
       "  </tbody>\n",
       "</table>\n",
       "</div>"
      ],
      "text/plain": [
       "         id  prompt_id          text\n",
       "0  0000aaaa          2  Aaa bbb ccc.\n",
       "1  1111bbbb          3  Bbb ccc ddd.\n",
       "2  2222cccc          4  CCC ddd eee."
      ]
     },
     "execution_count": 9,
     "metadata": {},
     "output_type": "execute_result"
    }
   ],
   "source": [
    "df_test_essay"
   ]
  },
  {
   "cell_type": "markdown",
   "id": "3405fcb0",
   "metadata": {},
   "source": [
    "Since the test data from kaggle is a dummy data, we will validate our results on using train test split in our dataframe"
   ]
  },
  {
   "cell_type": "markdown",
   "id": "52734a94",
   "metadata": {},
   "source": [
    "### Analyzing the Texts"
   ]
  },
  {
   "cell_type": "code",
   "execution_count": 10,
   "id": "3b3bffb5",
   "metadata": {},
   "outputs": [
    {
     "data": {
      "image/png": "[encoded data removed]",
      "text/plain": [
       "<Figure size 640x480 with 1 Axes>"
      ]
     },
     "metadata": {},
     "output_type": "display_data"
    }
   ],
   "source": [
    "#Length of essays\n",
    "df[\"text_len\"] = df[\"text\"].apply(lambda x : len(x.split()))\n",
    "sns.histplot(df['text_len'], bins=30, kde=True)\n",
    "plt.title('Histogram of Text Length')\n",
    "plt.xlabel('Text Length')\n",
    "plt.ylabel('Frequency')\n",
    "plt.show()"
   ]
  },
  {
   "cell_type": "code",
   "execution_count": 11,
   "id": "48681a8a",
   "metadata": {},
   "outputs": [
    {
     "data": {
      "text/plain": [
       "count    46246.000000\n",
       "mean       388.761428\n",
       "std        167.367549\n",
       "min          4.000000\n",
       "25%        276.000000\n",
       "50%        357.000000\n",
       "75%        461.000000\n",
       "max       1656.000000\n",
       "Name: text_len, dtype: float64"
      ]
     },
     "execution_count": 11,
     "metadata": {},
     "output_type": "execute_result"
    }
   ],
   "source": [
    "df[\"text_len\"].describe()"
   ]
  },
  {
   "cell_type": "code",
   "execution_count": 12,
   "id": "ab4f640d",
   "metadata": {},
   "outputs": [
    {
     "name": "stdout",
     "output_type": "stream",
     "text": [
      "Total unique words: 99072\n"
     ]
    }
   ],
   "source": [
    "#Count for unique words\n",
    "unique_words = set()\n",
    "for text in df['text']:\n",
    "    words = text.lower().split()  # Convert to lowercase and split into words\n",
    "    unique_words.update(words)\n",
    "\n",
    "# Remove punctuation from each word\n",
    "unique_words = {word.strip(string.punctuation) for word in unique_words}\n",
    "\n",
    "# Now, unique_words set contains all unique words\n",
    "total_unique_words = len(unique_words)\n",
    "print(\"Total unique words:\", total_unique_words)"
   ]
  },
  {
   "cell_type": "code",
   "execution_count": 13,
   "id": "ff41ac8b",
   "metadata": {},
   "outputs": [
    {
     "data": {
      "image/png": "[encoded data removed]",
      "text/plain": [
       "<Figure size 600x400 with 1 Axes>"
      ]
     },
     "metadata": {},
     "output_type": "display_data"
    }
   ],
   "source": [
    "plt.figure(figsize=(6,4))\n",
    "sns.boxplot(x='generated', y='text_len', data=df)\n",
    "plt.title('Comparison of Essay Lengths')\n",
    "plt.xlabel('Essay Source')\n",
    "plt.ylabel('Essay Length')\n",
    "plt.xticks([0, 1], ['Student-written', 'LLM-generated'])\n",
    "plt.show()"
   ]
  },
  {
   "cell_type": "markdown",
   "id": "a5f42146",
   "metadata": {},
   "source": [
    "### Analysis of most common words by student and LLM"
   ]
  },
  {
   "cell_type": "code",
   "execution_count": 14,
   "id": "084078d5",
   "metadata": {},
   "outputs": [
    {
     "data": {
      "image/png": "[encoded data removed]",
      "text/plain": [
       "<Figure size 1500x600 with 1 Axes>"
      ]
     },
     "metadata": {},
     "output_type": "display_data"
    },
    {
     "data": {
      "image/png": "[encoded data removed]",
      "text/plain": [
       "<Figure size 1500x600 with 1 Axes>"
      ]
     },
     "metadata": {},
     "output_type": "display_data"
    }
   ],
   "source": [
    "from collections import Counter\n",
    "import itertools\n",
    "\n",
    "def plot_most_common_words(text_series, num_words=30, title=\"Most Common Words\"):\n",
    "    all_text = ' '.join(text_series).lower()\n",
    "    words = all_text.split()\n",
    "    word_freq = Counter(words)\n",
    "    common_words = word_freq.most_common(num_words)\n",
    "    \n",
    "    # Plot the most common words\n",
    "    plt.figure(figsize=(15, 6))\n",
    "    sns.barplot(x=[word for word, freq in common_words], y=[freq for word, freq in common_words],hue=[freq for word, freq in common_words],palette='light:blue')\n",
    "    plt.title(title)\n",
    "    plt.xticks(rotation=45)\n",
    "    plt.xlabel('Words')\n",
    "    plt.ylabel('Frequency')\n",
    "    plt.show()\n",
    "\n",
    "plot_most_common_words(df[df['generated'] == 0]['text'], title=\"Most Common Words in Student Essays\")\n",
    "plot_most_common_words(df[df['generated'] == 1]['text'], title=\"Most Common Words in LLM-generated Essays\")"
   ]
  },
  {
   "cell_type": "code",
   "execution_count": 15,
   "id": "9bb564ef",
   "metadata": {},
   "outputs": [
    {
     "data": {
      "text/html": [
       "<div>\n",
       "<style scoped>\n",
       "    .dataframe tbody tr th:only-of-type {\n",
       "        vertical-align: middle;\n",
       "    }\n",
       "\n",
       "    .dataframe tbody tr th {\n",
       "        vertical-align: top;\n",
       "    }\n",
       "\n",
       "    .dataframe thead th {\n",
       "        text-align: right;\n",
       "    }\n",
       "</style>\n",
       "<table border=\"1\" class=\"dataframe\">\n",
       "  <thead>\n",
       "    <tr style=\"text-align: right;\">\n",
       "      <th></th>\n",
       "      <th>text</th>\n",
       "      <th>generated</th>\n",
       "      <th>text_len</th>\n",
       "    </tr>\n",
       "  </thead>\n",
       "  <tbody>\n",
       "    <tr>\n",
       "      <th>0</th>\n",
       "      <td>Phones\\n\\nModern humans today are always on th...</td>\n",
       "      <td>0</td>\n",
       "      <td>379</td>\n",
       "    </tr>\n",
       "    <tr>\n",
       "      <th>1</th>\n",
       "      <td>This essay will explain if drivers should or s...</td>\n",
       "      <td>0</td>\n",
       "      <td>366</td>\n",
       "    </tr>\n",
       "    <tr>\n",
       "      <th>2</th>\n",
       "      <td>Driving while the use of cellular devices\\n\\nT...</td>\n",
       "      <td>0</td>\n",
       "      <td>178</td>\n",
       "    </tr>\n",
       "    <tr>\n",
       "      <th>3</th>\n",
       "      <td>Phones &amp; Driving\\n\\nDrivers should not be able...</td>\n",
       "      <td>0</td>\n",
       "      <td>212</td>\n",
       "    </tr>\n",
       "    <tr>\n",
       "      <th>4</th>\n",
       "      <td>Cell Phone Operation While Driving\\n\\nThe abil...</td>\n",
       "      <td>0</td>\n",
       "      <td>332</td>\n",
       "    </tr>\n",
       "    <tr>\n",
       "      <th>...</th>\n",
       "      <td>...</td>\n",
       "      <td>...</td>\n",
       "      <td>...</td>\n",
       "    </tr>\n",
       "    <tr>\n",
       "      <th>1373</th>\n",
       "      <td>There has been a fuss about the Elector Colleg...</td>\n",
       "      <td>0</td>\n",
       "      <td>430</td>\n",
       "    </tr>\n",
       "    <tr>\n",
       "      <th>1374</th>\n",
       "      <td>Limiting car usage has many advantages. Such a...</td>\n",
       "      <td>0</td>\n",
       "      <td>397</td>\n",
       "    </tr>\n",
       "    <tr>\n",
       "      <th>1375</th>\n",
       "      <td>There's a new trend that has been developing f...</td>\n",
       "      <td>0</td>\n",
       "      <td>749</td>\n",
       "    </tr>\n",
       "    <tr>\n",
       "      <th>1376</th>\n",
       "      <td>As we all know cars are a big part of our soci...</td>\n",
       "      <td>0</td>\n",
       "      <td>525</td>\n",
       "    </tr>\n",
       "    <tr>\n",
       "      <th>1377</th>\n",
       "      <td>Cars have been around since the 1800's and hav...</td>\n",
       "      <td>0</td>\n",
       "      <td>447</td>\n",
       "    </tr>\n",
       "  </tbody>\n",
       "</table>\n",
       "<p>46246 rows × 3 columns</p>\n",
       "</div>"
      ],
      "text/plain": [
       "                                                   text  generated  text_len\n",
       "0     Phones\\n\\nModern humans today are always on th...          0       379\n",
       "1     This essay will explain if drivers should or s...          0       366\n",
       "2     Driving while the use of cellular devices\\n\\nT...          0       178\n",
       "3     Phones & Driving\\n\\nDrivers should not be able...          0       212\n",
       "4     Cell Phone Operation While Driving\\n\\nThe abil...          0       332\n",
       "...                                                 ...        ...       ...\n",
       "1373  There has been a fuss about the Elector Colleg...          0       430\n",
       "1374  Limiting car usage has many advantages. Such a...          0       397\n",
       "1375  There's a new trend that has been developing f...          0       749\n",
       "1376  As we all know cars are a big part of our soci...          0       525\n",
       "1377  Cars have been around since the 1800's and hav...          0       447\n",
       "\n",
       "[46246 rows x 3 columns]"
      ]
     },
     "execution_count": 15,
     "metadata": {},
     "output_type": "execute_result"
    }
   ],
   "source": [
    "df"
   ]
  },
  {
   "cell_type": "markdown",
   "id": "0e91df34",
   "metadata": {},
   "source": [
    "## II. Data Pre-processing"
   ]
  },
  {
   "cell_type": "markdown",
   "id": "6c9fb6b1",
   "metadata": {},
   "source": [
    "#### 1) Removing Duplicate records"
   ]
  },
  {
   "cell_type": "code",
   "execution_count": 16,
   "id": "8e056b11",
   "metadata": {},
   "outputs": [],
   "source": [
    "df.drop_duplicates(subset=['text'],inplace=True)\n",
    "df.reset_index(drop=True, inplace=True)\n",
    "df.drop('text_len',inplace=True ,axis=1 )"
   ]
  },
  {
   "cell_type": "markdown",
   "id": "548dda00",
   "metadata": {},
   "source": [
    "#### 2) Train test split"
   ]
  },
  {
   "cell_type": "code",
   "execution_count": 17,
   "id": "49ae7fff",
   "metadata": {},
   "outputs": [
    {
     "name": "stdout",
     "output_type": "stream",
     "text": [
      "X_train shape:  (30061,)\n",
      "y_train shape:  (30061,)\n",
      "X_test shape:  (14807,)\n",
      "y_test shape:  (14807,)\n"
     ]
    }
   ],
   "source": [
    "## train_test_Split\n",
    "X_train, X_test, y_train, y_test = train_test_split(df['text'],df['generated'], test_size=0.33, random_state=42)\n",
    "\n",
    "print(\"X_train shape: \",X_train.shape)\n",
    "print(\"y_train shape: \",y_train.shape)\n",
    "print(\"X_test shape: \",X_test.shape)\n",
    "print(\"y_test shape: \",y_test.shape)"
   ]
  },
  {
   "cell_type": "markdown",
   "id": "2c88e9dd",
   "metadata": {},
   "source": [
    "#### 3) Creating a vocabulary index"
   ]
  },
  {
   "cell_type": "code",
   "execution_count": 22,
   "id": "054fbba4",
   "metadata": {},
   "outputs": [
    {
     "name": "stderr",
     "output_type": "stream",
     "text": [
      "2024-01-19 16:04:53.275354: I tensorflow/core/grappler/optimizers/custom_graph_optimizer_registry.cc:114] Plugin optimizer for device_type GPU is enabled.\n"
     ]
    }
   ],
   "source": [
    "#Using the TextVectorization to index the vocabulary found in the dataset. \n",
    "#Later, we'll use the same layer instance to vectorize the samples.\n",
    "#Our layer will only consider the top 30,000 words, and will truncate or pad sequences \n",
    "#to be actually 200 tokens long.\n",
    "\n",
    "vectorizer = TextVectorization(max_tokens=30000, output_sequence_length=200)\n",
    "text_ds = tf.data.Dataset.from_tensor_slices(X_train).batch(128)\n",
    "vectorizer.adapt(text_ds)"
   ]
  },
  {
   "cell_type": "code",
   "execution_count": 23,
   "id": "9ff1476a",
   "metadata": {},
   "outputs": [
    {
     "data": {
      "text/plain": [
       "['', '[UNK]', 'the', 'to', 'and', 'a', 'of', 'in', 'that', 'is']"
      ]
     },
     "execution_count": 23,
     "metadata": {},
     "output_type": "execute_result"
    }
   ],
   "source": [
    "vectorizer.get_vocabulary()[:10]"
   ]
  },
  {
   "cell_type": "code",
   "execution_count": 24,
   "id": "d438b07b",
   "metadata": {},
   "outputs": [],
   "source": [
    "voc = vectorizer.get_vocabulary()\n",
    "word_index = dict(zip(voc, range(len(voc))))"
   ]
  },
  {
   "cell_type": "markdown",
   "id": "99bbb3ca",
   "metadata": {},
   "source": [
    "## III. Embedding & Modelling"
   ]
  },
  {
   "cell_type": "markdown",
   "id": "2b995a4d",
   "metadata": {},
   "source": [
    "### Load pre-trained Glove word embeddings"
   ]
  },
  {
   "cell_type": "code",
   "execution_count": 25,
   "id": "c04c79e3",
   "metadata": {},
   "outputs": [
    {
     "name": "stdout",
     "output_type": "stream",
     "text": [
      "Found 400000 word vectors.\n"
     ]
    }
   ],
   "source": [
    "import os\n",
    "path_to_glove_file = os.path.join(\n",
    "    os.path.expanduser(\"~\"), \"/Users/dibyanshu/Documents/Jupyter Codes/NLP/Movie Classifier/glove.6B/glove.6B.200d.txt\"\n",
    ")\n",
    "\n",
    "embeddings_index = {}\n",
    "with open(path_to_glove_file) as f:\n",
    "    for line in f:\n",
    "        word, coefs = line.split(maxsplit=1)\n",
    "        coefs = np.fromstring(coefs, \"f\", sep=\" \")\n",
    "        embeddings_index[word] = coefs\n",
    "\n",
    "print(\"Found %s word vectors.\" % len(embeddings_index))"
   ]
  },
  {
   "cell_type": "markdown",
   "id": "513b975d",
   "metadata": {},
   "source": [
    "### Creating Embedding Matrix"
   ]
  },
  {
   "cell_type": "code",
   "execution_count": 26,
   "id": "da2e5212",
   "metadata": {},
   "outputs": [
    {
     "name": "stdout",
     "output_type": "stream",
     "text": [
      "Converted 20426 words (9574 misses)\n"
     ]
    }
   ],
   "source": [
    "num_tokens = len(voc) + 2\n",
    "embedding_dim = 200\n",
    "hits = 0\n",
    "misses = 0\n",
    "\n",
    "# Prepare embedding matrix\n",
    "embedding_matrix = np.zeros((num_tokens, embedding_dim))\n",
    "for word, i in word_index.items():\n",
    "    embedding_vector = embeddings_index.get(word)\n",
    "    if embedding_vector is not None:\n",
    "        # Words not found in embedding index will be all-zeros.\n",
    "        # This includes the representation for \"padding\" and \"OOV\"\n",
    "        embedding_matrix[i] = embedding_vector\n",
    "        hits += 1\n",
    "    else:\n",
    "        misses += 1\n",
    "print(\"Converted %d words (%d misses)\" % (hits, misses))"
   ]
  },
  {
   "cell_type": "markdown",
   "id": "f86d1f11",
   "metadata": {},
   "source": [
    "### Creating Embedding Layer"
   ]
  },
  {
   "cell_type": "code",
   "execution_count": 28,
   "id": "e8e4839b",
   "metadata": {},
   "outputs": [],
   "source": [
    "from tensorflow.keras.layers import Embedding\n",
    "import keras\n",
    "embedding_layer = Embedding(\n",
    "    num_tokens,\n",
    "    embedding_dim,\n",
    "    embeddings_initializer=keras.initializers.Constant(embedding_matrix),\n",
    "    trainable=True,\n",
    ")"
   ]
  },
  {
   "cell_type": "markdown",
   "id": "67db1164",
   "metadata": {},
   "source": [
    "## IV. Modelling"
   ]
  },
  {
   "cell_type": "code",
   "execution_count": 29,
   "id": "322ca1a2",
   "metadata": {},
   "outputs": [
    {
     "name": "stdout",
     "output_type": "stream",
     "text": [
      "Model: \"model\"\n",
      "_________________________________________________________________\n",
      " Layer (type)                Output Shape              Param #   \n",
      "=================================================================\n",
      " input_1 (InputLayer)        [(None, None)]            0         \n",
      "                                                                 \n",
      " embedding_1 (Embedding)     (None, None, 200)         6000400   \n",
      "                                                                 \n",
      " bidirectional (Bidirection  (None, 200)               240800    \n",
      " al)                                                             \n",
      "                                                                 \n",
      " dense (Dense)               (None, 64)                12864     \n",
      "                                                                 \n",
      " dense_1 (Dense)             (None, 64)                4160      \n",
      "                                                                 \n",
      " dropout (Dropout)           (None, 64)                0         \n",
      "                                                                 \n",
      " dense_2 (Dense)             (None, 1)                 65        \n",
      "                                                                 \n",
      "=================================================================\n",
      "Total params: 6258289 (23.87 MB)\n",
      "Trainable params: 6258289 (23.87 MB)\n",
      "Non-trainable params: 0 (0.00 Byte)\n",
      "_________________________________________________________________\n",
      "None\n"
     ]
    }
   ],
   "source": [
    "from tensorflow.keras import layers\n",
    "from tensorflow.keras.layers import LSTM\n",
    "from tensorflow.keras.layers import Dense\n",
    "from tensorflow.keras.layers import Dropout\n",
    "from tensorflow.keras.layers import Bidirectional\n",
    "\n",
    "\n",
    "# Creating model\n",
    "int_sequences_input = keras.Input(shape=(None,), dtype=\"int64\")\n",
    "embedded_sequences = embedding_layer(int_sequences_input)\n",
    "x = layers.Bidirectional(LSTM(100))(embedded_sequences)\n",
    "x = layers.Dense(64, activation=\"relu\")(x)\n",
    "x = layers.Dense(64, activation=\"relu\")(x)\n",
    "x = layers.Dropout(0.5)(x)\n",
    "preds = layers.Dense(1, activation=\"sigmoid\")(x)\n",
    "model = keras.Model(int_sequences_input, preds)\n",
    "print(model.summary())"
   ]
  },
  {
   "cell_type": "code",
   "execution_count": 30,
   "id": "5deb9d84",
   "metadata": {},
   "outputs": [],
   "source": [
    "x_train = vectorizer(np.array([[s] for s in X_train])).numpy()\n",
    "x_val = vectorizer(np.array([[s] for s in X_test])).numpy()\n",
    "\n",
    "y_train = np.array(y_train)\n",
    "y_val = np.array(y_test)"
   ]
  },
  {
   "cell_type": "markdown",
   "id": "50a2dcab",
   "metadata": {},
   "source": [
    "### Fitting the Model"
   ]
  },
  {
   "cell_type": "code",
   "execution_count": 31,
   "id": "9c3a34da",
   "metadata": {},
   "outputs": [
    {
     "name": "stdout",
     "output_type": "stream",
     "text": [
      "Epoch 1/5\n"
     ]
    },
    {
     "name": "stderr",
     "output_type": "stream",
     "text": [
      "2024-01-19 16:12:24.682040: I tensorflow/core/grappler/optimizers/custom_graph_optimizer_registry.cc:114] Plugin optimizer for device_type GPU is enabled.\n",
      "2024-01-19 16:12:24.864243: I tensorflow/core/grappler/optimizers/custom_graph_optimizer_registry.cc:114] Plugin optimizer for device_type GPU is enabled.\n",
      "2024-01-19 16:12:24.875307: I tensorflow/core/grappler/optimizers/custom_graph_optimizer_registry.cc:114] Plugin optimizer for device_type GPU is enabled.\n",
      "2024-01-19 16:12:25.141623: I tensorflow/core/grappler/optimizers/custom_graph_optimizer_registry.cc:114] Plugin optimizer for device_type GPU is enabled.\n",
      "2024-01-19 16:12:25.156087: I tensorflow/core/grappler/optimizers/custom_graph_optimizer_registry.cc:114] Plugin optimizer for device_type GPU is enabled.\n"
     ]
    },
    {
     "name": "stdout",
     "output_type": "stream",
     "text": [
      "235/235 [==============================] - ETA: 0s - loss: 0.2737 - acc: 0.8882"
     ]
    },
    {
     "name": "stderr",
     "output_type": "stream",
     "text": [
      "2024-01-19 16:12:48.864895: I tensorflow/core/grappler/optimizers/custom_graph_optimizer_registry.cc:114] Plugin optimizer for device_type GPU is enabled.\n",
      "2024-01-19 16:12:48.930037: I tensorflow/core/grappler/optimizers/custom_graph_optimizer_registry.cc:114] Plugin optimizer for device_type GPU is enabled.\n",
      "2024-01-19 16:12:48.938149: I tensorflow/core/grappler/optimizers/custom_graph_optimizer_registry.cc:114] Plugin optimizer for device_type GPU is enabled.\n"
     ]
    },
    {
     "name": "stdout",
     "output_type": "stream",
     "text": [
      "235/235 [==============================] - 29s 116ms/step - loss: 0.2737 - acc: 0.8882 - val_loss: 0.0894 - val_acc: 0.9689\n",
      "Epoch 2/5\n",
      "235/235 [==============================] - 26s 111ms/step - loss: 0.0864 - acc: 0.9717 - val_loss: 0.0470 - val_acc: 0.9848\n",
      "Epoch 3/5\n",
      "235/235 [==============================] - 26s 109ms/step - loss: 0.0429 - acc: 0.9865 - val_loss: 0.0435 - val_acc: 0.9868\n",
      "Epoch 4/5\n",
      "235/235 [==============================] - 25s 108ms/step - loss: 0.0255 - acc: 0.9921 - val_loss: 0.0327 - val_acc: 0.9901\n",
      "Epoch 5/5\n",
      "235/235 [==============================] - 29s 122ms/step - loss: 0.0131 - acc: 0.9962 - val_loss: 0.0690 - val_acc: 0.9841\n"
     ]
    },
    {
     "data": {
      "text/plain": [
       "<keras.src.callbacks.History at 0x29b3920a0>"
      ]
     },
     "execution_count": 31,
     "metadata": {},
     "output_type": "execute_result"
    }
   ],
   "source": [
    "model.compile(\n",
    "    loss=\"binary_crossentropy\", optimizer=\"rmsprop\", metrics=[\"acc\"]\n",
    ")\n",
    "model.fit(x_train, y_train, batch_size=128, epochs=5, validation_data=(x_val, y_val))"
   ]
  },
  {
   "cell_type": "code",
   "execution_count": 32,
   "id": "5727d15b",
   "metadata": {},
   "outputs": [
    {
     "name": "stderr",
     "output_type": "stream",
     "text": [
      "2024-01-19 16:15:56.444228: I tensorflow/core/grappler/optimizers/custom_graph_optimizer_registry.cc:114] Plugin optimizer for device_type GPU is enabled.\n",
      "2024-01-19 16:15:56.499720: I tensorflow/core/grappler/optimizers/custom_graph_optimizer_registry.cc:114] Plugin optimizer for device_type GPU is enabled.\n",
      "2024-01-19 16:15:56.516145: I tensorflow/core/grappler/optimizers/custom_graph_optimizer_registry.cc:114] Plugin optimizer for device_type GPU is enabled.\n"
     ]
    },
    {
     "name": "stdout",
     "output_type": "stream",
     "text": [
      "463/463 [==============================] - 9s 18ms/step\n"
     ]
    }
   ],
   "source": [
    "y_pred= model.predict(x_val)"
   ]
  },
  {
   "cell_type": "code",
   "execution_count": 33,
   "id": "eb585440",
   "metadata": {},
   "outputs": [
    {
     "data": {
      "text/plain": [
       "array([[9.9999976e-01],\n",
       "       [3.8723542e-07],\n",
       "       [9.9999964e-01],\n",
       "       ...,\n",
       "       [6.7609733e-08],\n",
       "       [3.6313459e-06],\n",
       "       [9.9887508e-01]], dtype=float32)"
      ]
     },
     "execution_count": 33,
     "metadata": {},
     "output_type": "execute_result"
    }
   ],
   "source": [
    "y_pred"
   ]
  },
  {
   "cell_type": "code",
   "execution_count": 34,
   "id": "2a0e0222",
   "metadata": {},
   "outputs": [],
   "source": [
    "y_pred_labels = [round(y_pred[i][0]) for i in range(0,len(y_pred))]"
   ]
  },
  {
   "cell_type": "markdown",
   "id": "743d46ce",
   "metadata": {},
   "source": [
    "## V. Evaluation: Preparing Output For Kaggle"
   ]
  },
  {
   "cell_type": "code",
   "execution_count": 35,
   "id": "fd242501",
   "metadata": {},
   "outputs": [
    {
     "data": {
      "text/html": [
       "<div>\n",
       "<style scoped>\n",
       "    .dataframe tbody tr th:only-of-type {\n",
       "        vertical-align: middle;\n",
       "    }\n",
       "\n",
       "    .dataframe tbody tr th {\n",
       "        vertical-align: top;\n",
       "    }\n",
       "\n",
       "    .dataframe thead th {\n",
       "        text-align: right;\n",
       "    }\n",
       "</style>\n",
       "<table border=\"1\" class=\"dataframe\">\n",
       "  <thead>\n",
       "    <tr style=\"text-align: right;\">\n",
       "      <th></th>\n",
       "      <th>id</th>\n",
       "      <th>prompt_id</th>\n",
       "      <th>text</th>\n",
       "    </tr>\n",
       "  </thead>\n",
       "  <tbody>\n",
       "    <tr>\n",
       "      <th>0</th>\n",
       "      <td>0000aaaa</td>\n",
       "      <td>2</td>\n",
       "      <td>Aaa bbb ccc.</td>\n",
       "    </tr>\n",
       "    <tr>\n",
       "      <th>1</th>\n",
       "      <td>1111bbbb</td>\n",
       "      <td>3</td>\n",
       "      <td>Bbb ccc ddd.</td>\n",
       "    </tr>\n",
       "    <tr>\n",
       "      <th>2</th>\n",
       "      <td>2222cccc</td>\n",
       "      <td>4</td>\n",
       "      <td>CCC ddd eee.</td>\n",
       "    </tr>\n",
       "  </tbody>\n",
       "</table>\n",
       "</div>"
      ],
      "text/plain": [
       "         id  prompt_id          text\n",
       "0  0000aaaa          2  Aaa bbb ccc.\n",
       "1  1111bbbb          3  Bbb ccc ddd.\n",
       "2  2222cccc          4  CCC ddd eee."
      ]
     },
     "execution_count": 35,
     "metadata": {},
     "output_type": "execute_result"
    }
   ],
   "source": [
    "df_test_essay"
   ]
  },
  {
   "cell_type": "code",
   "execution_count": 36,
   "id": "674a51ba",
   "metadata": {},
   "outputs": [],
   "source": [
    "x_test = vectorizer(np.array([[s] for s in df_test_essay['text']])).numpy()"
   ]
  },
  {
   "cell_type": "code",
   "execution_count": 37,
   "id": "434fead2",
   "metadata": {},
   "outputs": [
    {
     "name": "stdout",
     "output_type": "stream",
     "text": [
      "1/1 [==============================] - 0s 86ms/step\n"
     ]
    }
   ],
   "source": [
    "y_pred= model.predict(x_test)"
   ]
  },
  {
   "cell_type": "code",
   "execution_count": 38,
   "id": "6dbc5e49",
   "metadata": {},
   "outputs": [
    {
     "data": {
      "text/plain": [
       "array([[0.97673917],\n",
       "       [0.5001904 ],\n",
       "       [0.5001904 ]], dtype=float32)"
      ]
     },
     "execution_count": 38,
     "metadata": {},
     "output_type": "execute_result"
    }
   ],
   "source": [
    "y_pred"
   ]
  },
  {
   "cell_type": "code",
   "execution_count": 39,
   "id": "60a07d70",
   "metadata": {},
   "outputs": [],
   "source": [
    "df_sub.drop('generated',axis=1,inplace= True)"
   ]
  },
  {
   "cell_type": "code",
   "execution_count": 40,
   "id": "f5eed1c3",
   "metadata": {},
   "outputs": [],
   "source": [
    "df_sub['generated']=y_pred"
   ]
  },
  {
   "cell_type": "code",
   "execution_count": 41,
   "id": "b9f06ff0",
   "metadata": {},
   "outputs": [],
   "source": [
    "df_sub.to_csv(\"Submission.csv\")"
   ]
  },
  {
   "cell_type": "code",
   "execution_count": 42,
   "id": "72845947",
   "metadata": {},
   "outputs": [],
   "source": [
    "y_pred = [9,3,4]\n",
    "y_pred= np.array(y_pred)"
   ]
  },
  {
   "cell_type": "code",
   "execution_count": 43,
   "id": "2d9eae55",
   "metadata": {},
   "outputs": [
    {
     "data": {
      "text/plain": [
       "numpy.ndarray"
      ]
     },
     "execution_count": 43,
     "metadata": {},
     "output_type": "execute_result"
    }
   ],
   "source": [
    "type(y_pred)"
   ]
  },
  {
   "cell_type": "code",
   "execution_count": 5,
   "id": "f16f66b2",
   "metadata": {},
   "outputs": [],
   "source": [
    "y_pred=pd.Series(y_pred.reshape(-1))"
   ]
  },
  {
   "cell_type": "code",
   "execution_count": 4,
   "id": "5196ca70",
   "metadata": {},
   "outputs": [
    {
     "data": {
      "text/html": [
       "<div>\n",
       "<style scoped>\n",
       "    .dataframe tbody tr th:only-of-type {\n",
       "        vertical-align: middle;\n",
       "    }\n",
       "\n",
       "    .dataframe tbody tr th {\n",
       "        vertical-align: top;\n",
       "    }\n",
       "\n",
       "    .dataframe thead th {\n",
       "        text-align: right;\n",
       "    }\n",
       "</style>\n",
       "<table border=\"1\" class=\"dataframe\">\n",
       "  <thead>\n",
       "    <tr style=\"text-align: right;\">\n",
       "      <th></th>\n",
       "      <th>id</th>\n",
       "      <th>generated</th>\n",
       "    </tr>\n",
       "  </thead>\n",
       "  <tbody>\n",
       "    <tr>\n",
       "      <th>0</th>\n",
       "      <td>0000aaaa</td>\n",
       "      <td>0.1</td>\n",
       "    </tr>\n",
       "    <tr>\n",
       "      <th>1</th>\n",
       "      <td>1111bbbb</td>\n",
       "      <td>0.9</td>\n",
       "    </tr>\n",
       "    <tr>\n",
       "      <th>2</th>\n",
       "      <td>2222cccc</td>\n",
       "      <td>0.4</td>\n",
       "    </tr>\n",
       "  </tbody>\n",
       "</table>\n",
       "</div>"
      ],
      "text/plain": [
       "         id  generated\n",
       "0  0000aaaa        0.1\n",
       "1  1111bbbb        0.9\n",
       "2  2222cccc        0.4"
      ]
     },
     "execution_count": 4,
     "metadata": {},
     "output_type": "execute_result"
    }
   ],
   "source": [
    "df_sub"
   ]
  },
  {
   "cell_type": "code",
   "execution_count": null,
   "id": "87863cef",
   "metadata": {},
   "outputs": [],
   "source": []
  }
 ],
 "metadata": {
  "kernelspec": {
   "display_name": "env",
   "language": "python",
   "name": "env"
  },
  "language_info": {
   "codemirror_mode": {
    "name": "ipython",
    "version": 3
   },
   "file_extension": ".py",
   "mimetype": "text/x-python",
   "name": "python",
   "nbconvert_exporter": "python",
   "pygments_lexer": "ipython3",
   "version": "3.8.18"
  }
 },
 "nbformat": 4,
 "nbformat_minor": 5
}
